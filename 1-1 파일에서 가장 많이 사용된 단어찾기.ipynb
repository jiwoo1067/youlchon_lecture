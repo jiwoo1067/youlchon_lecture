{
 "cells": [
  {
   "cell_type": "markdown",
   "id": "d539415e-93da-4911-a650-a7d64f69b5b0",
   "metadata": {},
   "source": [
    "* Pandas를 이용하여 Csv파일의 모든 컬럼을 읽어 가장 많이 사용된 단어 10개를 찾아주는 파이썬 코드를 작성해주세요.\n",
    "* 파일은 다음 경로에 있습니다. https://raw.githubusercontent.com/yomihomi/youlchon_lecture/main/ex1_word_count.csv\n",
    "* 문장은 영어 단어가 포함된 한국어로 작성되어 있으며, 단어를 분석할 때 조사는 제외해 주세요\n",
    "* 단어를 구분하기 위한 라이브러리를 사용하지 않고 코드를 작성해주세요"
   ]
  },
  {
   "cell_type": "code",
   "execution_count": 1,
   "id": "60a0a662-60ac-4c10-853c-f8a85dae36c5",
   "metadata": {},
   "outputs": [
    {
     "name": "stdout",
     "output_type": "stream",
     "text": [
      "가장 많이 사용된 단어 10개: [('데이터', 25), ('및', 24), ('분석', 18), ('수', 10), ('업무', 10), ('통해', 9), ('활용', 9), ('Data', 8), ('통한', 8), ('파이썬', 8)]\n"
     ]
    }
   ],
   "source": [
    "import pandas as pd\n",
    "import re\n",
    "from collections import Counter\n",
    "\n",
    "def is_korean_word(word):\n",
    "    # 한글 음절 범위: 가(44032) ~ 힣(55203)\n",
    "    return all('가' <= ch <= '힣' or ch.isalpha() for ch in word)\n",
    "\n",
    "def remove_particles(words):\n",
    "    # 한국어 조사 목록\n",
    "    particles = ['이', '가', '은', '는', '을', '를', '에', '에서', '로', '으로', '와', '과', '도']\n",
    "    return [word for word in words if word not in particles]\n",
    "\n",
    "def get_most_common_words(csv_url):\n",
    "    df = pd.read_csv(csv_url)\n",
    "    all_words = []\n",
    "\n",
    "    for column in df.columns:\n",
    "        for entry in df[column].dropna():\n",
    "            words = re.findall(r'\\b\\w+\\b', entry)\n",
    "            words = [word for word in words if is_korean_word(word)]\n",
    "            all_words.extend(words)\n",
    "    \n",
    "    all_words = remove_particles(all_words)\n",
    "    word_counts = Counter(all_words)\n",
    "    \n",
    "    return word_counts.most_common(10)\n",
    "\n",
    "csv_url = 'https://raw.githubusercontent.com/yomihomi/youlchon_lecture/main/ex1_word_count.csv'\n",
    "most_common_words = get_most_common_words(csv_url)\n",
    "print(\"가장 많이 사용된 단어 10개:\", most_common_words)"
   ]
  },
  {
   "cell_type": "code",
   "execution_count": null,
   "id": "476e74cc-d17f-413d-a14c-2a812d4ccd18",
   "metadata": {},
   "outputs": [],
   "source": []
  }
 ],
 "metadata": {
  "kernelspec": {
   "display_name": "Python 3 (ipykernel)",
   "language": "python",
   "name": "python3"
  },
  "language_info": {
   "codemirror_mode": {
    "name": "ipython",
    "version": 3
   },
   "file_extension": ".py",
   "mimetype": "text/x-python",
   "name": "python",
   "nbconvert_exporter": "python",
   "pygments_lexer": "ipython3",
   "version": "3.12.7"
  }
 },
 "nbformat": 4,
 "nbformat_minor": 5
}
