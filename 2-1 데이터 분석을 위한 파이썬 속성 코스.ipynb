{
 "cells": [
  {
   "cell_type": "markdown",
   "id": "c3f9bc71-77a4-4121-a9eb-c87f7c4c5804",
   "metadata": {},
   "source": [
    "# __boolean__\n",
    "* 파이썬에는 명시적인 것이 암시적인 것보다 낫다라는 철학이 있습니다.\n",
    "* True나 False는 0과 1로도 표현할 수 있으나 명시적으로 표현하기 위해 True와 False를 사용합니다."
   ]
  },
  {
   "cell_type": "code",
   "execution_count": 18,
   "id": "e26609a7-eb96-45f0-a608-370561a95f40",
   "metadata": {},
   "outputs": [],
   "source": [
    "# 1. True를 출력해 보세요."
   ]
  },
  {
   "cell_type": "code",
   "execution_count": 19,
   "id": "d5d173c0-9675-4885-a16c-84b79435a804",
   "metadata": {},
   "outputs": [],
   "source": [
    "# 2. False를 출력해 보세요."
   ]
  },
  {
   "cell_type": "code",
   "execution_count": 20,
   "id": "b071847d-c6f3-446e-b7ae-2bf6cce23ec6",
   "metadata": {},
   "outputs": [],
   "source": [
    "# 3. True는 1과 같음을 표현해 보세요. 파이썬에서는 같음을 비교할 때 == 연산을 사용합니다."
   ]
  },
  {
   "cell_type": "code",
   "execution_count": 21,
   "id": "1e72a27a-e97d-4293-a8a9-18894a6a58ba",
   "metadata": {},
   "outputs": [],
   "source": [
    "# 4. 하지만 True는 문자 1과 다릅니다. 1을 따옴표로 감싸면 문자열이 됩니다."
   ]
  },
  {
   "cell_type": "code",
   "execution_count": 22,
   "id": "5365683a-f3a6-43b5-a108-e407d4971ee0",
   "metadata": {},
   "outputs": [],
   "source": [
    "# 5. 문자열 1과 True는 다릅니다."
   ]
  },
  {
   "cell_type": "code",
   "execution_count": 23,
   "id": "cadd7d24-606d-4bbf-b00d-a869df877d0e",
   "metadata": {},
   "outputs": [],
   "source": [
    "# 6. False도 마찬가지 입니다."
   ]
  },
  {
   "cell_type": "code",
   "execution_count": 24,
   "id": "c52be7e4-b921-4e88-9a11-0dd0f2f7c248",
   "metadata": {},
   "outputs": [],
   "source": [
    "# 7. False는 문자열 0과 다릅니다."
   ]
  },
  {
   "cell_type": "code",
   "execution_count": 25,
   "id": "a546c445-569f-439a-a4f7-5dabfec2ba72",
   "metadata": {},
   "outputs": [],
   "source": [
    "# 8. and 연산으로 True 값 끼리 비교합니다. and는 모든 값이 True 일때만 True가 됩니다."
   ]
  },
  {
   "cell_type": "code",
   "execution_count": 26,
   "id": "58bfba8b-2dc6-4c0e-b382-3a30240bd402",
   "metadata": {},
   "outputs": [],
   "source": [
    "# 9. and는 조건 중 하나라도 False라면 False가 됩니다."
   ]
  },
  {
   "cell_type": "code",
   "execution_count": 16,
   "id": "a4de605c-98b9-46a9-97b5-997ac182b676",
   "metadata": {},
   "outputs": [],
   "source": [
    "# 10. or은 하나만 True 라도 True가 됩니다."
   ]
  },
  {
   "cell_type": "markdown",
   "id": "a8d9ab63-56d1-43a8-88ec-e21bce634c83",
   "metadata": {},
   "source": [
    "# ___Number and String___\n",
    "* 숫자 1과 문자 \"1\"은 다릅니다. 숫자1과 문자1의 데이터 타입을 출력해보세요\n",
    "* 테이터 타입을 표현할 때 type을 통해 테이터를 출력합니다."
   ]
  },
  {
   "cell_type": "code",
   "execution_count": 27,
   "id": "24d49682-861f-49e6-8d12-bbd9f576c232",
   "metadata": {},
   "outputs": [],
   "source": [
    "# 11. 숫자 1을 출력해 보세요."
   ]
  },
  {
   "cell_type": "code",
   "execution_count": 28,
   "id": "03efb2ef-c66e-4d44-afff-cdc0c897c5ce",
   "metadata": {},
   "outputs": [],
   "source": [
    "# 12. 문자 1을 출력해 보세요."
   ]
  },
  {
   "cell_type": "code",
   "execution_count": 29,
   "id": "8677ad59-a624-42c9-803a-058c222ac941",
   "metadata": {},
   "outputs": [],
   "source": [
    "# 13. 숫자 1의 데이터 타입을 출력해 보세요."
   ]
  },
  {
   "cell_type": "code",
   "execution_count": 30,
   "id": "664c5aab-1b8c-4d1f-99a0-d4921a49da88",
   "metadata": {},
   "outputs": [],
   "source": [
    "# 14. 문자 1의 데이터 타입을 출력해 보세요."
   ]
  },
  {
   "cell_type": "code",
   "execution_count": 31,
   "id": "3f6db091-2e21-4819-88ee-ecce111162af",
   "metadata": {},
   "outputs": [],
   "source": [
    "# 15. 문자 1과 숫자 1을 비교합니다."
   ]
  },
  {
   "cell_type": "markdown",
   "id": "dea65d0f-ae80-4dbf-87ff-efcb06f9b4b7",
   "metadata": {},
   "source": [
    "# ___String and Lists___"
   ]
  },
  {
   "cell_type": "code",
   "execution_count": 33,
   "id": "96b423b2-4652-4ef5-ab03-c91422016403",
   "metadata": {},
   "outputs": [],
   "source": [
    "# 16. \"Hello World!\"를 출력해 봅니다."
   ]
  },
  {
   "cell_type": "code",
   "execution_count": 34,
   "id": "f1eb93d4-a76c-454a-a28f-5de8e7c7d579",
   "metadata": {},
   "outputs": [],
   "source": [
    "# 17. 주소 \"경기도 성남시 분당구\"를 출력해 봅니다."
   ]
  },
  {
   "cell_type": "markdown",
   "id": "646d943a-c7aa-4eff-8013-d4c425c9cfba",
   "metadata": {},
   "source": [
    "# ___String___"
   ]
  },
  {
   "cell_type": "code",
   "execution_count": 35,
   "id": "9586f52b-a496-450e-b20b-e0ae099c3a50",
   "metadata": {},
   "outputs": [],
   "source": [
    "# 18. til이라는 변수에 \"Today I Learned\" 라는 문자열을 담아봅니다."
   ]
  },
  {
   "cell_type": "code",
   "execution_count": 36,
   "id": "f8c37f9a-2931-414b-aed2-ceac636213dd",
   "metadata": {},
   "outputs": [],
   "source": [
    "# 19. 모두 소문자로 만들어보세요 (lower)"
   ]
  },
  {
   "cell_type": "code",
   "execution_count": 38,
   "id": "c424eedf-ddd7-46ae-af8b-ec843a95d973",
   "metadata": {},
   "outputs": [],
   "source": [
    "# 20. 모두 대문자로 만들어보세요 (upper)"
   ]
  },
  {
   "cell_type": "markdown",
   "id": "e42a33a7-635e-4425-83d3-6b6ad9686b75",
   "metadata": {},
   "source": [
    "# ___lists___"
   ]
  },
  {
   "cell_type": "code",
   "execution_count": 43,
   "id": "f767f6db-9bbd-46a2-9c91-291726758c39",
   "metadata": {},
   "outputs": [],
   "source": [
    "# 21. 비어있는 리스트를 만듭니다. lang이라는 변수에 담습니다. ([])"
   ]
  },
  {
   "cell_type": "code",
   "execution_count": 45,
   "id": "a27d16e6-908c-4b72-b884-943ca561c284",
   "metadata": {},
   "outputs": [],
   "source": [
    "# 22. python, java, c를 원소에 추가한 다음 (append), 리스트를 출력합니다."
   ]
  },
  {
   "cell_type": "code",
   "execution_count": 46,
   "id": "c915d106-1396-48db-8477-4199d8c0edba",
   "metadata": {},
   "outputs": [],
   "source": [
    "# 23. lang 이라는 변수에 담겨있는 언어명을 인덱싱을 통해 가져옵니다."
   ]
  },
  {
   "cell_type": "code",
   "execution_count": 47,
   "id": "2a8881dc-21b2-420c-82e9-8e29befab1bd",
   "metadata": {},
   "outputs": [],
   "source": [
    "# 24. 1번 인덱스를 가져옵니다."
   ]
  },
  {
   "cell_type": "code",
   "execution_count": 49,
   "id": "631f74db-7130-433a-a442-305d1f8b8db2",
   "metadata": {},
   "outputs": [],
   "source": [
    "# 25. 마지막 인덱스를 가져옵니다. (-1)"
   ]
  },
  {
   "cell_type": "markdown",
   "id": "0ddf9156-d645-4e19-8e14-c7df213a69a1",
   "metadata": {},
   "source": [
    "# ___Control Flow___\n",
    "* 제어문 - 조건문, 반복문"
   ]
  },
  {
   "cell_type": "code",
   "execution_count": 51,
   "id": "c50366f2-950b-495c-a3c2-9c3b065c82e4",
   "metadata": {},
   "outputs": [],
   "source": [
    "# 26. 반복문을 통해 lang 리스트의 원소를 하나씩 출력합니다."
   ]
  },
  {
   "cell_type": "code",
   "execution_count": 56,
   "id": "c7a2be9e-0fb9-43d1-a6a2-ed744c0dbc71",
   "metadata": {},
   "outputs": [],
   "source": [
    "# 27. 위 코드에서 python일 때는 그대로 출력하고 나머지 텍스트는 \"기타\" 라고 출력합니다.\n",
    "# 파이썬에서 조건문과 반복문을 사용할 때 Tab키 또는 4번의 space bar키로 Indent를 맞춘다.\n",
    "# 출력 결과가 아래와 같도록 합니다.\n",
    "# python\n",
    "# 기타\n",
    "# 기타"
   ]
  },
  {
   "cell_type": "code",
   "execution_count": 58,
   "id": "b5701f64-f9cb-45ac-9ece-ab2d42f24dfb",
   "metadata": {},
   "outputs": [],
   "source": [
    "# 28. 특정 횟수만큼 반복문을 실행하도록 합니다. (range)"
   ]
  },
  {
   "cell_type": "code",
   "execution_count": 61,
   "id": "1808798d-25e4-44f4-b43b-52be48427b44",
   "metadata": {},
   "outputs": [],
   "source": [
    "# 29. for문과 if문을 함께 사용해 봅시다\n",
    "# 1부터 10까지 홀수만 출력하도록 합니다."
   ]
  },
  {
   "cell_type": "code",
   "execution_count": 63,
   "id": "a548b547-451e-46c5-a0b0-4342d87f86ae",
   "metadata": {},
   "outputs": [],
   "source": [
    "# 30. enumrate를 사용하면 인덱스 번화와 원소를 같이 가져올 수 있습니다.\n",
    "# for i, val in enumlate(lang)\n",
    "#    print(i, val)"
   ]
  },
  {
   "cell_type": "markdown",
   "id": "5eb479e8-fcb2-43d0-8fc4-fc6abc0c161f",
   "metadata": {},
   "source": [
    "# ___문자열___\n",
    "* 문자열에서 사용할 수 있는 모든 method확인 방법 .누르고 tab키"
   ]
  },
  {
   "cell_type": "code",
   "execution_count": 65,
   "id": "10ecf2b3-5ef5-465e-9482-e77d252f1411",
   "metadata": {},
   "outputs": [],
   "source": [
    "# 31. 주소를 address 변수에 담습니다.\n",
    "# \"   경기도 성남시 분당구 불정로 6 NAVER 그린팩토리 16층   \""
   ]
  },
  {
   "cell_type": "code",
   "execution_count": 66,
   "id": "32e58abf-7ab2-490c-ad1d-c276086c3515",
   "metadata": {},
   "outputs": [],
   "source": [
    "# 32. 앞뒤 공백을 제거합니다. (strip)\n",
    "# 데이터 전처리 시 주로 사용합니다.\n",
    "# 결과를 다시 넣어주어야 합니다."
   ]
  },
  {
   "cell_type": "code",
   "execution_count": 68,
   "id": "2382396c-cec8-4a74-94bc-d6cf4e96856e",
   "metadata": {},
   "outputs": [],
   "source": [
    "# 33. 문자열의 길이 (len)"
   ]
  },
  {
   "cell_type": "code",
   "execution_count": 74,
   "id": "3fa432f0-7ddc-4aa7-86c9-0494de5b2c73",
   "metadata": {},
   "outputs": [],
   "source": [
    "# 34. 공백으로 문자열 분리 (split), 특정 문자료 문자열 분리하려면 split(\"구문문자\")\n",
    "# 결과를 address_list에 리스트에 저장"
   ]
  },
  {
   "cell_type": "code",
   "execution_count": 76,
   "id": "46d7755d-b950-4853-beec-1548780da306",
   "metadata": {},
   "outputs": [],
   "source": [
    "# 35. 리스트의 길이 (len)"
   ]
  },
  {
   "cell_type": "markdown",
   "id": "22450dd7-6dba-4361-9150-ba6a99d18250",
   "metadata": {},
   "source": [
    "* 슬라이싱, startswith, in을 통해 문자열에 서울이 있는지 확인하기"
   ]
  },
  {
   "cell_type": "code",
   "execution_count": 81,
   "id": "edefaf03-4133-4b02-8c4e-bf5ead9aba57",
   "metadata": {},
   "outputs": [],
   "source": [
    "# 36. 슬라이싱으로 문자 가져오기 (address 앞에서 2글자)"
   ]
  },
  {
   "cell_type": "code",
   "execution_count": 83,
   "id": "e46daab1-7ac1-472f-8d63-ea8656243df1",
   "metadata": {},
   "outputs": [],
   "source": [
    "# 37. startswith를 사용하면 특정 문자가 포함되는지 여부를 확인할 수 있습니다.\n",
    "# address.startwith(\"경기\")"
   ]
  },
  {
   "cell_type": "code",
   "execution_count": 85,
   "id": "5e3289bb-2a34-4461-9a48-5eb8e65e2f28",
   "metadata": {},
   "outputs": [],
   "source": [
    "# 38. in을 사용하게 되면 특정 문자열을 포함하고 있는지 여부를 확인할 수 있습니다.\n",
    "# \"경기\" in address"
   ]
  },
  {
   "cell_type": "markdown",
   "id": "2537c20d-f914-4b8e-acda-f8e7564a3491",
   "metadata": {},
   "source": [
    "# ___리스트___\n",
    "* 문자열에서 쓰는 방법과 비슷하게 메소드 등을 사용할 수 있습니다.\n",
    "* 차이를 비교해 보세요"
   ]
  },
  {
   "cell_type": "code",
   "execution_count": 86,
   "id": "ade63631-4f2f-4e60-8ec9-7e4397a54a98",
   "metadata": {},
   "outputs": [],
   "source": [
    "# 39. 인덱싱으로 리스트의 원소 가져오기 - address_list에서 구를 자져와 gu라는 변수에 담아보세요"
   ]
  },
  {
   "cell_type": "code",
   "execution_count": 90,
   "id": "45d847d8-cc79-48d9-b8d0-17d02e7d23ea",
   "metadata": {},
   "outputs": [],
   "source": [
    "# 40. 인덱싱으로 리스트의 원소 가져오기 - address_ist에서 도로명을 가져와 street이라는 변수에 담아보세요"
   ]
  },
  {
   "cell_type": "code",
   "execution_count": 88,
   "id": "e639f4d2-d131-4089-afd2-aab6a7f6091b",
   "metadata": {},
   "outputs": [],
   "source": [
    "# 41. 리스트의 마지막을 가져옵니다."
   ]
  },
  {
   "cell_type": "code",
   "execution_count": 89,
   "id": "64bf487b-e208-4b04-a90f-3733f7bab2a8",
   "metadata": {},
   "outputs": [],
   "source": [
    "# 42. \" \".join(리스트)를 사용하면 리스트를 공백 문자열을 연결할 수 있습니다.\n",
    "# 리스트로 분리된 문자열을 다시 연결합니다."
   ]
  },
  {
   "cell_type": "code",
   "execution_count": 93,
   "id": "ef4fe051-9fef-4fcb-b3f6-71a78689cc3b",
   "metadata": {},
   "outputs": [],
   "source": [
    "# 43. in을 사용하게 되면 리스트에 해당 데이터를 포함하고 있는지 여부를 확인할 수 있습니다.\n",
    "# \"경기\"가 address_list에 포함되는지 봅니다. 문자열이 정확하게 일치해야 True를 리턴한다"
   ]
  },
  {
   "cell_type": "code",
   "execution_count": null,
   "id": "e00babb8-27e7-42ab-9920-bda0bb8c36b3",
   "metadata": {},
   "outputs": [],
   "source": [
    "# 44. in을 사용하게 되면 리스트에 해당 데이터를 포함하고 있는지 여부를 확인할 수 있습니다.\n",
    "# \"분당구\"가 address_list에 포함되는지 봅니다."
   ]
  }
 ],
 "metadata": {
  "kernelspec": {
   "display_name": "Python 3 (ipykernel)",
   "language": "python",
   "name": "python3"
  },
  "language_info": {
   "codemirror_mode": {
    "name": "ipython",
    "version": 3
   },
   "file_extension": ".py",
   "mimetype": "text/x-python",
   "name": "python",
   "nbconvert_exporter": "python",
   "pygments_lexer": "ipython3",
   "version": "3.12.7"
  }
 },
 "nbformat": 4,
 "nbformat_minor": 5
}
