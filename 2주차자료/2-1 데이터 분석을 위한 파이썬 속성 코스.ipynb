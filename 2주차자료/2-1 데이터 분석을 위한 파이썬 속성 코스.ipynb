{
  "cells": [
    {
      "cell_type": "markdown",
      "id": "c3f9bc71-77a4-4121-a9eb-c87f7c4c5804",
      "metadata": {
        "id": "c3f9bc71-77a4-4121-a9eb-c87f7c4c5804"
      },
      "source": [
        "# __boolean__\n",
        "* 파이썬에는 명시적인 것이 암시적인 것보다 낫다라는 철학이 있습니다.\n",
        "* True나 False는 0과 1로도 표현할 수 있으나 명시적으로 표현하기 위해 True와 False를 사용합니다."
      ]
    },
    {
      "cell_type": "code",
      "execution_count": null,
      "id": "e26609a7-eb96-45f0-a608-370561a95f40",
      "metadata": {
        "id": "e26609a7-eb96-45f0-a608-370561a95f40"
      },
      "outputs": [],
      "source": [
        "# 1. True를 출력해 보세요."
      ]
    },
    {
      "cell_type": "code",
      "execution_count": null,
      "id": "d5d173c0-9675-4885-a16c-84b79435a804",
      "metadata": {
        "id": "d5d173c0-9675-4885-a16c-84b79435a804"
      },
      "outputs": [],
      "source": [
        "# 2. False를 출력해 보세요."
      ]
    },
    {
      "cell_type": "code",
      "execution_count": null,
      "id": "b071847d-c6f3-446e-b7ae-2bf6cce23ec6",
      "metadata": {
        "id": "b071847d-c6f3-446e-b7ae-2bf6cce23ec6"
      },
      "outputs": [],
      "source": [
        "# 3. True는 1과 같음을 표현해 보세요. 파이썬에서는 같음을 비교할 때 == 연산을 사용합니다."
      ]
    },
    {
      "cell_type": "code",
      "execution_count": null,
      "id": "1e72a27a-e97d-4293-a8a9-18894a6a58ba",
      "metadata": {
        "id": "1e72a27a-e97d-4293-a8a9-18894a6a58ba"
      },
      "outputs": [],
      "source": [
        "# 4. 하지만 True는 문자 1과 다릅니다. 1을 따옴표로 감싸면 문자열이 됩니다."
      ]
    },
    {
      "cell_type": "code",
      "execution_count": null,
      "id": "5365683a-f3a6-43b5-a108-e407d4971ee0",
      "metadata": {
        "id": "5365683a-f3a6-43b5-a108-e407d4971ee0"
      },
      "outputs": [],
      "source": [
        "# 5. 문자열 1과 True는 다릅니다."
      ]
    },
    {
      "cell_type": "code",
      "execution_count": null,
      "id": "cadd7d24-606d-4bbf-b00d-a869df877d0e",
      "metadata": {
        "id": "cadd7d24-606d-4bbf-b00d-a869df877d0e"
      },
      "outputs": [],
      "source": [
        "# 6. False도 마찬가지 입니다."
      ]
    },
    {
      "cell_type": "code",
      "execution_count": null,
      "id": "c52be7e4-b921-4e88-9a11-0dd0f2f7c248",
      "metadata": {
        "id": "c52be7e4-b921-4e88-9a11-0dd0f2f7c248"
      },
      "outputs": [],
      "source": [
        "# 7. False는 문자열 0과 다릅니다."
      ]
    },
    {
      "cell_type": "code",
      "execution_count": null,
      "id": "a546c445-569f-439a-a4f7-5dabfec2ba72",
      "metadata": {
        "id": "a546c445-569f-439a-a4f7-5dabfec2ba72"
      },
      "outputs": [],
      "source": [
        "# 8. and 연산으로 True 값 끼리 비교합니다. and는 모든 값이 True 일때만 True가 됩니다."
      ]
    },
    {
      "cell_type": "code",
      "execution_count": null,
      "id": "58bfba8b-2dc6-4c0e-b382-3a30240bd402",
      "metadata": {
        "id": "58bfba8b-2dc6-4c0e-b382-3a30240bd402"
      },
      "outputs": [],
      "source": [
        "# 9. and는 조건 중 하나라도 False라면 False가 됩니다."
      ]
    },
    {
      "cell_type": "code",
      "execution_count": null,
      "id": "a4de605c-98b9-46a9-97b5-997ac182b676",
      "metadata": {
        "id": "a4de605c-98b9-46a9-97b5-997ac182b676"
      },
      "outputs": [],
      "source": [
        "# 10. or은 하나만 True 라도 True가 됩니다."
      ]
    },
    {
      "cell_type": "markdown",
      "id": "a8d9ab63-56d1-43a8-88ec-e21bce634c83",
      "metadata": {
        "id": "a8d9ab63-56d1-43a8-88ec-e21bce634c83"
      },
      "source": [
        "# ___Number and String___\n",
        "* 숫자 1과 문자 \"1\"은 다릅니다. 숫자1과 문자1의 데이터 타입을 출력해보세요\n",
        "* 테이터 타입을 표현할 때 type을 통해 테이터를 출력합니다.\n",
        "* 정수 연산자에는 더하기, 빼기, 곱하기, 부동소수점 나누기, 정수나누기, 나머지 계산하기, 지수 계산하기 등이 있습니다."
      ]
    },
    {
      "cell_type": "code",
      "execution_count": null,
      "id": "24d49682-861f-49e6-8d12-bbd9f576c232",
      "metadata": {
        "id": "24d49682-861f-49e6-8d12-bbd9f576c232"
      },
      "outputs": [],
      "source": [
        "# 11. 숫자 1을 출력해 보세요."
      ]
    },
    {
      "cell_type": "code",
      "execution_count": null,
      "id": "03efb2ef-c66e-4d44-afff-cdc0c897c5ce",
      "metadata": {
        "id": "03efb2ef-c66e-4d44-afff-cdc0c897c5ce"
      },
      "outputs": [],
      "source": [
        "# 12. 문자 1을 출력해 보세요."
      ]
    },
    {
      "cell_type": "code",
      "execution_count": null,
      "id": "8677ad59-a624-42c9-803a-058c222ac941",
      "metadata": {
        "id": "8677ad59-a624-42c9-803a-058c222ac941"
      },
      "outputs": [],
      "source": [
        "# 13. 숫자 1의 데이터 타입을 출력해 보세요."
      ]
    },
    {
      "cell_type": "code",
      "execution_count": null,
      "id": "664c5aab-1b8c-4d1f-99a0-d4921a49da88",
      "metadata": {
        "id": "664c5aab-1b8c-4d1f-99a0-d4921a49da88"
      },
      "outputs": [],
      "source": [
        "# 14. 문자 1의 데이터 타입을 출력해 보세요."
      ]
    },
    {
      "cell_type": "code",
      "execution_count": null,
      "id": "3f6db091-2e21-4819-88ee-ecce111162af",
      "metadata": {
        "id": "3f6db091-2e21-4819-88ee-ecce111162af"
      },
      "outputs": [],
      "source": [
        "# 15. 문자 1과 숫자 1을 비교합니다."
      ]
    },
    {
      "cell_type": "code",
      "execution_count": null,
      "id": "84113ef4-4682-4f4a-913a-651728329b1c",
      "metadata": {
        "id": "84113ef4-4682-4f4a-913a-651728329b1c"
      },
      "outputs": [],
      "source": [
        "# 16. 7을 2로 나눈 값을 출력해 보세요. (/는 부동소수점을 포함한 결과가 출력된다.)"
      ]
    },
    {
      "cell_type": "code",
      "execution_count": null,
      "id": "f3520e99-74e6-47a2-83f4-0f00fd8da4f8",
      "metadata": {
        "id": "f3520e99-74e6-47a2-83f4-0f00fd8da4f8"
      },
      "outputs": [],
      "source": [
        "# 17. 7을 2로 나눈 정수값을 출력해 보세요. (//는 부동소수점을 제외한 결과가 출력된다.)"
      ]
    },
    {
      "cell_type": "code",
      "execution_count": null,
      "id": "cce176a7-5a65-4ad0-9b88-67528b5134b5",
      "metadata": {
        "id": "cce176a7-5a65-4ad0-9b88-67528b5134b5"
      },
      "outputs": [],
      "source": [
        "# 18. 7을 4로 나눈 나머지를 출력해 보세요. (% 연산자를 나머지가 출력된다.)"
      ]
    },
    {
      "cell_type": "code",
      "execution_count": null,
      "id": "2329da3e-e2f2-49d8-b01e-9fd03b11db99",
      "metadata": {
        "id": "2329da3e-e2f2-49d8-b01e-9fd03b11db99"
      },
      "outputs": [],
      "source": [
        "# 19. 2의 3.5제곱값을 출력해 보세요. (** 연산자는 부동소수점을 사용할 수 있다)"
      ]
    },
    {
      "cell_type": "markdown",
      "id": "dea65d0f-ae80-4dbf-87ff-efcb06f9b4b7",
      "metadata": {
        "id": "dea65d0f-ae80-4dbf-87ff-efcb06f9b4b7"
      },
      "source": [
        "# ___String and Lists___"
      ]
    },
    {
      "cell_type": "code",
      "execution_count": null,
      "id": "96b423b2-4652-4ef5-ab03-c91422016403",
      "metadata": {
        "id": "96b423b2-4652-4ef5-ab03-c91422016403"
      },
      "outputs": [],
      "source": [
        "# 20. \"Hello World!\"를 출력해 봅니다."
      ]
    },
    {
      "cell_type": "code",
      "execution_count": null,
      "id": "f1eb93d4-a76c-454a-a28f-5de8e7c7d579",
      "metadata": {
        "id": "f1eb93d4-a76c-454a-a28f-5de8e7c7d579"
      },
      "outputs": [],
      "source": [
        "# 21. 주소 '경기도 성남시 분당구'를 출력해 봅니다."
      ]
    },
    {
      "cell_type": "code",
      "execution_count": null,
      "id": "4ea357d6-aae6-4f80-b6be-2949535dac7e",
      "metadata": {
        "id": "4ea357d6-aae6-4f80-b6be-2949535dac7e"
      },
      "outputs": [],
      "source": [
        "# 22. 왜 2가지 종류의 따옴표가 있을까요? 주된 이유는 따옴표가 포함된 문자열을 만들기 위해서입니다.\n",
        "# 다음 문자열을 출력해 보세요 she said, \"python is amazing!\""
      ]
    },
    {
      "cell_type": "markdown",
      "id": "70d504d1-76e8-45ea-9746-21f112de68b7",
      "metadata": {
        "id": "70d504d1-76e8-45ea-9746-21f112de68b7"
      },
      "source": [
        "# ___String___"
      ]
    },
    {
      "cell_type": "code",
      "execution_count": null,
      "id": "9586f52b-a496-450e-b20b-e0ae099c3a50",
      "metadata": {
        "id": "9586f52b-a496-450e-b20b-e0ae099c3a50"
      },
      "outputs": [],
      "source": [
        "# 23. til이라는 변수에 \"Today I Learned\" 라는 문자열을 담아봅니다."
      ]
    },
    {
      "cell_type": "code",
      "execution_count": null,
      "id": "f8c37f9a-2931-414b-aed2-ceac636213dd",
      "metadata": {
        "id": "f8c37f9a-2931-414b-aed2-ceac636213dd"
      },
      "outputs": [],
      "source": [
        "# 24. 모두 소문자로 만들어보세요 (lower)"
      ]
    },
    {
      "cell_type": "code",
      "execution_count": null,
      "id": "f6634bd1-9a7c-453f-9705-8ad1baf8be1e",
      "metadata": {
        "id": "f6634bd1-9a7c-453f-9705-8ad1baf8be1e"
      },
      "outputs": [],
      "source": [
        "# 25. print함수를 이용하여 til을 출력하세요"
      ]
    },
    {
      "cell_type": "code",
      "execution_count": null,
      "id": "c424eedf-ddd7-46ae-af8b-ec843a95d973",
      "metadata": {
        "id": "c424eedf-ddd7-46ae-af8b-ec843a95d973"
      },
      "outputs": [],
      "source": [
        "# 26. 모두 대문자로 만들어보세요 (upper)"
      ]
    },
    {
      "cell_type": "code",
      "execution_count": null,
      "id": "06750055-5ff5-4eda-b167-47a20c8be251",
      "metadata": {
        "id": "06750055-5ff5-4eda-b167-47a20c8be251"
      },
      "outputs": [],
      "source": [
        "# 27. 더 많은 문자열 함수를 확인하려면 변수이름 다음에 .을 입력하고 tab키를 누르세요 (til.)"
      ]
    },
    {
      "cell_type": "code",
      "execution_count": null,
      "id": "0cfc9eee-12ab-4261-bc57-a20842473ed3",
      "metadata": {
        "id": "0cfc9eee-12ab-4261-bc57-a20842473ed3"
      },
      "outputs": [],
      "source": [
        "# 28. * 연산자를 이용하여 문자열을 복제하고 + 연산자를 이용하여 결합할 수 있습니다."
      ]
    },
    {
      "cell_type": "code",
      "execution_count": null,
      "id": "1b7a646e-df04-4b1a-937e-1b240c42ca80",
      "metadata": {
        "id": "1b7a646e-df04-4b1a-937e-1b240c42ca80"
      },
      "outputs": [],
      "source": [
        "start = 'Na' * 4 + '\\n'\n",
        "middle = 'hey' * 3 + '\\n'\n",
        "end ='Goodbye.'\n",
        "print(start,start+middle+end) # print()는 각 인수 사이에 공백을 붙입니다."
      ]
    },
    {
      "cell_type": "code",
      "execution_count": null,
      "id": "b2814b12-3827-4c52-8dc4-76be043150ee",
      "metadata": {
        "id": "b2814b12-3827-4c52-8dc4-76be043150ee"
      },
      "outputs": [],
      "source": [
        "# 29. letters의 세번째 글자와 마지막 문자를 출력하세요\n",
        "# 문자열에서 한 문자를 얻기 위해서는 문자열 이름 뒤에 대괄호 []와 오프셋을 지정합니다.\n",
        "letters = 'abcdefghijklmnopqrstuvwxyz'"
      ]
    },
    {
      "cell_type": "code",
      "execution_count": null,
      "id": "bcd1178d-b7bf-4450-b3e2-2da0b6d836f4",
      "metadata": {
        "id": "bcd1178d-b7bf-4450-b3e2-2da0b6d836f4"
      },
      "outputs": [],
      "source": [
        "# 30. letters의 첫번째 글자를 P로 변경하세요\n",
        "# letters[0] = 'p' # 문자열은 불변하기 때문에 특정 인덱스에 문자를 삽입하거나 변경할 수 없습니다.\n",
        "# letters.replace('a', 'p') # replace함수는 문자열에 있는 모든 문자를 변경합니다.\n",
        "#'p' + letters[1:] # 슬라이스를 이용하여 문자열 일부를 추출할 수 있습니다."
      ]
    },
    {
      "cell_type": "markdown",
      "id": "0859ad22-437d-497d-b488-6ba08329689a",
      "metadata": {
        "id": "0859ad22-437d-497d-b488-6ba08329689a"
      },
      "source": [
        "# ___슬라이스로 부문 문자열 추출___\n",
        "* ___[ : ] 처음부터 끝까지 전체 시퀀스를 추출한다.___\n",
        "* ___[ start : ] start 오프셋부터 끝까지 시퀀스를 추출한다.___\n",
        "* ___[ : end ] 처음부터 end-1 오프셋까지 시퀀스를 추출한다.___\n",
        "* ___[ start : end ] start 오프셋부터 end-1 오프셋까지 시퀀스를 추출한다.___\n",
        "* ___[ start : end : step ] step 만큼 문자를 건너뛰면서, start 오프셋부터 end-1 오프셋까지 시퀀스를 추출한다.___"
      ]
    },
    {
      "cell_type": "code",
      "execution_count": null,
      "id": "a2fe6f80-0460-4538-a8e4-3ab461cdf098",
      "metadata": {
        "id": "a2fe6f80-0460-4538-a8e4-3ab461cdf098"
      },
      "outputs": [],
      "source": [
        "# 31. letters에 저장된 문자열에서 오프셋 20부터 문자열 끝까지 추출하세요"
      ]
    },
    {
      "cell_type": "code",
      "execution_count": null,
      "id": "5d00b3be-8eef-49e9-9964-dce8b8b733c5",
      "metadata": {
        "id": "5d00b3be-8eef-49e9-9964-dce8b8b733c5"
      },
      "outputs": [],
      "source": [
        "# 32. letters에 저장된 문자열에서 오프셋 12부터 14까지 추출하세요"
      ]
    },
    {
      "cell_type": "code",
      "execution_count": null,
      "id": "8797865d-4428-4a89-b755-ab22f526eb3d",
      "metadata": {
        "id": "8797865d-4428-4a89-b755-ab22f526eb3d"
      },
      "outputs": [],
      "source": [
        "# 33. letters에 저장된 문자열에서 마지막 세 문자를 추출하세요"
      ]
    },
    {
      "cell_type": "code",
      "execution_count": null,
      "id": "34316eb1-cd75-4f81-a958-801134dc6f33",
      "metadata": {
        "id": "34316eb1-cd75-4f81-a958-801134dc6f33"
      },
      "outputs": [],
      "source": [
        "# 34. letters에 저장된 문자열에서 오프셋 18부터 마지막 네 번째 문자(w)까지 추출하세요"
      ]
    },
    {
      "cell_type": "code",
      "execution_count": null,
      "id": "4e53af21-40ab-43e6-b4f9-ea38ca5776d6",
      "metadata": {
        "id": "4e53af21-40ab-43e6-b4f9-ea38ca5776d6"
      },
      "outputs": [],
      "source": [
        "# 35. letters에 저장된 문자열에서 끝에서 여섯 번째 문자(u)부터 끝에서 세 번째 문자(x)까지 추출하세요"
      ]
    },
    {
      "cell_type": "code",
      "execution_count": null,
      "id": "11f126b0-9043-4e63-920a-24f51bae8dd9",
      "metadata": {
        "id": "11f126b0-9043-4e63-920a-24f51bae8dd9"
      },
      "outputs": [],
      "source": [
        "# 36. letters에 저장된 문자열에서 처음부터 끝까지 2스텝씩 건너뛰면서 문자를 추출하세요"
      ]
    },
    {
      "cell_type": "markdown",
      "id": "7f3ce004-c302-4d13-bd1f-4ab230a89a8e",
      "metadata": {
        "id": "7f3ce004-c302-4d13-bd1f-4ab230a89a8e"
      },
      "source": [
        "# ___더 많은 문자열 함수___\n",
        "* 문자열에서 사용할 수 있는 모든 method확인 방법 .누르고 tab키"
      ]
    },
    {
      "cell_type": "code",
      "execution_count": null,
      "id": "79014518-7320-4939-82a9-f2793f96fd41",
      "metadata": {
        "id": "79014518-7320-4939-82a9-f2793f96fd41"
      },
      "outputs": [],
      "source": [
        "# 37. 주소를 address 변수에 저장합니다.\n",
        "# \"   경기도 성남시 분당구 불정로 6 NAVER 그린팩토리 16층   \""
      ]
    },
    {
      "cell_type": "code",
      "execution_count": null,
      "id": "9569cf49-d082-4648-8e2f-c2b3bb0a6c44",
      "metadata": {
        "id": "9569cf49-d082-4648-8e2f-c2b3bb0a6c44"
      },
      "outputs": [],
      "source": [
        "# 38. 앞뒤 공백을 제거합니다. (strip)\n",
        "# 데이터 전처리 시 주로 사용합니다.\n",
        "# 결과를 다시 넣어주어야 합니다."
      ]
    },
    {
      "cell_type": "code",
      "execution_count": null,
      "id": "c058e66e-d1c0-431f-872d-ddb31c75f203",
      "metadata": {
        "id": "c058e66e-d1c0-431f-872d-ddb31c75f203"
      },
      "outputs": [],
      "source": [
        "# 39. address에 저장된 문자열의 길이를 출력해 보세요. (len)"
      ]
    },
    {
      "cell_type": "code",
      "execution_count": null,
      "id": "64d620ce-5939-4dcd-bd81-a0b85d80ae5f",
      "metadata": {
        "id": "64d620ce-5939-4dcd-bd81-a0b85d80ae5f"
      },
      "outputs": [],
      "source": [
        "# 40. address에 저장된 문자열을 공백으로 분리해보세요 (split)"
      ]
    },
    {
      "cell_type": "code",
      "execution_count": null,
      "id": "5e62079c-2a15-4372-b13f-faf189f51795",
      "metadata": {
        "id": "5e62079c-2a15-4372-b13f-faf189f51795"
      },
      "outputs": [],
      "source": [
        "# 41. address에 저장된 문자열을 '구'로 분리해보세요 -특정 문자료 문자열 분리하려면 split(\"구문문자\")"
      ]
    },
    {
      "cell_type": "code",
      "execution_count": null,
      "id": "32fe70c0-b6b3-46c5-9306-f231541c5762",
      "metadata": {
        "id": "32fe70c0-b6b3-46c5-9306-f231541c5762"
      },
      "outputs": [],
      "source": [
        "# 42. startswith를 사용하여 address가 \"경기\" 라는 문자열로 시작하는지 확인해 보세요."
      ]
    },
    {
      "cell_type": "code",
      "execution_count": null,
      "id": "2a3ba2ba-ef49-4ac5-bb88-63fe8e7cf242",
      "metadata": {
        "id": "2a3ba2ba-ef49-4ac5-bb88-63fe8e7cf242"
      },
      "outputs": [],
      "source": [
        "# 43. in을 사용하여 address에 \"경기\" 라는 문자열을 포함하고 있는지 확인해 보세요.\n",
        "\n",
        "# in 키워드 사용법 : substring in string\n",
        "# substring - 검색하려는 부분 문자열\n",
        "# string - 검색 대상이 되는 전체 문자열"
      ]
    },
    {
      "cell_type": "code",
      "execution_count": null,
      "id": "0a1a1e17-cbe9-4301-8759-4b62fd897ede",
      "metadata": {
        "id": "0a1a1e17-cbe9-4301-8759-4b62fd897ede"
      },
      "outputs": [],
      "source": [
        "# 44. center함수를 사용하여 str을 중앙 정렬해보세요\n",
        "str = \"12345\""
      ]
    },
    {
      "cell_type": "code",
      "execution_count": null,
      "id": "89fd5223-c5bf-4717-be05-06513f06a8ce",
      "metadata": {
        "id": "89fd5223-c5bf-4717-be05-06513f06a8ce"
      },
      "outputs": [],
      "source": [
        "# 45. ljust 함수를 사용하여 str을 왼쪽 정렬해보세요"
      ]
    },
    {
      "cell_type": "code",
      "execution_count": null,
      "id": "2dabf37d-96e0-40c2-8546-6a4b03ddc617",
      "metadata": {
        "id": "2dabf37d-96e0-40c2-8546-6a4b03ddc617"
      },
      "outputs": [],
      "source": [
        "# 46. rjust 함수를 사용하여 str을 오른쪽 정렬해보세요"
      ]
    },
    {
      "cell_type": "markdown",
      "id": "e42a33a7-635e-4425-83d3-6b6ad9686b75",
      "metadata": {
        "id": "e42a33a7-635e-4425-83d3-6b6ad9686b75"
      },
      "source": [
        "# ___lists___\n",
        "* 리스트의 인덱싱은 string과 동일합니다."
      ]
    },
    {
      "cell_type": "code",
      "execution_count": null,
      "id": "f767f6db-9bbd-46a2-9c91-291726758c39",
      "metadata": {
        "id": "f767f6db-9bbd-46a2-9c91-291726758c39"
      },
      "outputs": [],
      "source": [
        "# 47. 비어있는 리스트를 만듭니다. lang이라는 변수에 담습니다. ([])"
      ]
    },
    {
      "cell_type": "code",
      "execution_count": null,
      "id": "a27d16e6-908c-4b72-b884-943ca561c284",
      "metadata": {
        "id": "a27d16e6-908c-4b72-b884-943ca561c284"
      },
      "outputs": [],
      "source": [
        "# 48. python, java, c를 원소에 추가한 다음 (append), 리스트를 출력합니다."
      ]
    },
    {
      "cell_type": "code",
      "execution_count": null,
      "id": "c915d106-1396-48db-8477-4199d8c0edba",
      "metadata": {
        "id": "c915d106-1396-48db-8477-4199d8c0edba"
      },
      "outputs": [],
      "source": [
        "# 49. lang 이라는 변수에 담겨있는 첫 번째 값을 인덱싱을 통해 가져옵니다."
      ]
    },
    {
      "cell_type": "code",
      "execution_count": null,
      "id": "2a8881dc-21b2-420c-82e9-8e29befab1bd",
      "metadata": {
        "id": "2a8881dc-21b2-420c-82e9-8e29befab1bd"
      },
      "outputs": [],
      "source": [
        "# 50. 1번 인덱스를 가져옵니다."
      ]
    },
    {
      "cell_type": "code",
      "execution_count": null,
      "id": "631f74db-7130-433a-a442-305d1f8b8db2",
      "metadata": {
        "id": "631f74db-7130-433a-a442-305d1f8b8db2"
      },
      "outputs": [],
      "source": [
        "# 51. 마지막 인덱스를 가져옵니다. (-1)"
      ]
    },
    {
      "cell_type": "code",
      "execution_count": null,
      "id": "5c620c29-578b-40a5-92ed-61ce3a9e2390",
      "metadata": {
        "id": "5c620c29-578b-40a5-92ed-61ce3a9e2390"
      },
      "outputs": [],
      "source": [
        "# 52. 다음 문자열을 address에 저장하세요\n",
        "\"   경기도 성남시 분당구 불정로 6 NAVER 그린팩토리 16층   \""
      ]
    },
    {
      "cell_type": "code",
      "execution_count": null,
      "id": "7377cee0-e0c5-41bd-b6b4-27fccae0c020",
      "metadata": {
        "id": "7377cee0-e0c5-41bd-b6b4-27fccae0c020"
      },
      "outputs": [],
      "source": [
        "# 53. address에 저장된 문자열을 공백으로 분리해서 address_list라는 이름의 list에 저장하세요"
      ]
    },
    {
      "cell_type": "code",
      "execution_count": null,
      "id": "080f863a-6aae-496b-9c0d-1a78a60d47ea",
      "metadata": {
        "id": "080f863a-6aae-496b-9c0d-1a78a60d47ea"
      },
      "outputs": [],
      "source": [
        "# 54. address_list에서 인덱싱으로 \"분당구\"를 자져와 gu라는 문자열 변수에 저장하세요"
      ]
    },
    {
      "cell_type": "code",
      "execution_count": null,
      "id": "ef0a016d-e91a-4242-a8b9-d93576ddbfb9",
      "metadata": {
        "id": "ef0a016d-e91a-4242-a8b9-d93576ddbfb9"
      },
      "outputs": [],
      "source": [
        "# 55. address_list에서 인덱싱으로 \"불정로\"를 가져와 street이라는 문자열 변수에 저장하세요"
      ]
    },
    {
      "cell_type": "code",
      "execution_count": null,
      "id": "ba7711db-17a0-48c8-9ddd-061a1d90f0d5",
      "metadata": {
        "id": "ba7711db-17a0-48c8-9ddd-061a1d90f0d5"
      },
      "outputs": [],
      "source": [
        "# 56. address_list에서 원소의 마지막을 가져옵니다."
      ]
    },
    {
      "cell_type": "code",
      "execution_count": null,
      "id": "10892112-bb7c-4959-940f-8e56af451488",
      "metadata": {
        "id": "10892112-bb7c-4959-940f-8e56af451488"
      },
      "outputs": [],
      "source": [
        "# 57. address_list를 원래의 문자열로 합쳐서 address2에 저장해 주세요.\n",
        "# \" \".join(리스트)를 사용하면 리스트를 공백 문자열을 연결할 수 있습니다. \" \", \"_\", \"-\"등으로 연결할 수 있습니다."
      ]
    },
    {
      "cell_type": "code",
      "execution_count": null,
      "id": "8f558da3-af6f-4c06-8741-ec6c6e818276",
      "metadata": {
        "id": "8f558da3-af6f-4c06-8741-ec6c6e818276"
      },
      "outputs": [],
      "source": [
        "# 58. in이라는 키워드를 이용하여 \"분당구\"가 address_list에 포함되는지 확인해 보세요\n",
        "\n",
        "# in 키워드 사용법 : substring in list\n",
        "# substring - 검색하려는 부분 문자열\n",
        "# list - 검색 대상이 되는 list"
      ]
    },
    {
      "cell_type": "code",
      "execution_count": null,
      "id": "643f002b-0ccf-4250-b513-ee13ce004d24",
      "metadata": {
        "id": "643f002b-0ccf-4250-b513-ee13ce004d24"
      },
      "outputs": [],
      "source": [
        "# 59. in이라는 키워드를 이용하여 \"경기\"가 address_list에 포함되는지 확인해 보세요\n",
        "\n",
        "# list는 인덱싱된 문자열이 정확하게 일치해야 True를 리턴합니다.\n",
        "# list에 일부 문자열이 포함되면 True를 리턴하도록 코드를 수정해보세요.(list를 문자열로 변경해서 in키워드로 확인)"
      ]
    },
    {
      "cell_type": "markdown",
      "id": "0ddf9156-d645-4e19-8e14-c7df213a69a1",
      "metadata": {
        "id": "0ddf9156-d645-4e19-8e14-c7df213a69a1"
      },
      "source": [
        "# ___Control Flow___\n",
        "* 제어문 - 조건문, 반복문\n",
        "* 파이썬에서 조건문과 반복문을 사용할 때 Tab키 또는 4번의 space bar키로 Indent를 맞춘다."
      ]
    },
    {
      "cell_type": "code",
      "execution_count": null,
      "id": "c50366f2-950b-495c-a3c2-9c3b065c82e4",
      "metadata": {
        "id": "c50366f2-950b-495c-a3c2-9c3b065c82e4"
      },
      "outputs": [],
      "source": [
        "# 60. 반복문을 통해 lang 리스트의 원소를 하나씩 출력합니다.\n",
        "for i in lang:\n",
        "    print(i)"
      ]
    },
    {
      "cell_type": "code",
      "execution_count": null,
      "id": "c7a2be9e-0fb9-43d1-a6a2-ed744c0dbc71",
      "metadata": {
        "id": "c7a2be9e-0fb9-43d1-a6a2-ed744c0dbc71"
      },
      "outputs": [],
      "source": [
        "# 61. 반복문과 조건문을 이용하여 lang에 저장된 값이 python일 때는 그대로 출력하고 python이 아닐 때는 \"기타\" 라고 출력합니다.\n",
        "# 출력 결과가 아래와 같도록 합니다. 반복문과 조건문 사용 시 indent(들여쓰기)를 주의하세요\n",
        "# python\n",
        "# 기타\n",
        "# 기타"
      ]
    },
    {
      "cell_type": "code",
      "execution_count": null,
      "id": "b5701f64-f9cb-45ac-9ece-ab2d42f24dfb",
      "metadata": {
        "id": "b5701f64-f9cb-45ac-9ece-ab2d42f24dfb"
      },
      "outputs": [],
      "source": [
        "# 62. 특정 횟수만큼 반복문을 실행할 수 있습니다.\n",
        "count = len(lang)\n",
        "for i in range(count):\n",
        "    print(lang[i])"
      ]
    },
    {
      "cell_type": "code",
      "execution_count": null,
      "id": "1808798d-25e4-44f4-b43b-52be48427b44",
      "metadata": {
        "id": "1808798d-25e4-44f4-b43b-52be48427b44"
      },
      "outputs": [],
      "source": [
        "# 63. for문과 if문을 함께 사용해 봅시다\n",
        "# 1부터 10까지 홀수만 출력해보세요."
      ]
    },
    {
      "cell_type": "code",
      "execution_count": null,
      "id": "a548b547-451e-46c5-a0b0-4342d87f86ae",
      "metadata": {
        "id": "a548b547-451e-46c5-a0b0-4342d87f86ae"
      },
      "outputs": [],
      "source": [
        "# 64. enumrate를 사용하면 인덱스 번화와 원소를 같이 가져올 수 있습니다.\n",
        "for i, val in enumlate(lang):\n",
        "    print(i, val)"
      ]
    },
    {
      "cell_type": "markdown",
      "id": "f6045c52-2197-4fe5-8fe4-abda208a1f25",
      "metadata": {
        "id": "f6045c52-2197-4fe5-8fe4-abda208a1f25"
      },
      "source": [
        "# ___실습과제___\n",
        "* 반복문과 제어문을 이용하여 아래와 같이 삼각형 모양을 출력해보세요"
      ]
    },
    {
      "cell_type": "code",
      "execution_count": null,
      "id": "b19f7b43-c634-45cc-b6a2-21255d13bf23",
      "metadata": {
        "id": "b19f7b43-c634-45cc-b6a2-21255d13bf23",
        "outputId": "487fd5bf-7760-4c01-c5db-77baaa1cb467"
      },
      "outputs": [
        {
          "name": "stdout",
          "output_type": "stream",
          "text": [
            "*\n",
            "***\n",
            "*****\n",
            "*******\n",
            "*********\n"
          ]
        }
      ],
      "source": [
        "# 삼각형 출력 1"
      ]
    },
    {
      "cell_type": "code",
      "execution_count": null,
      "id": "d2bf3701-7807-4f8c-b093-6a399693da7f",
      "metadata": {
        "id": "d2bf3701-7807-4f8c-b093-6a399693da7f",
        "outputId": "c22f78a1-b1aa-44da-8c70-18dea453f1f3"
      },
      "outputs": [
        {
          "name": "stdout",
          "output_type": "stream",
          "text": [
            "    *     \n",
            "   ***    \n",
            "  *****   \n",
            " *******  \n",
            "********* \n"
          ]
        }
      ],
      "source": [
        "# 삼각형 출력 2"
      ]
    },
    {
      "cell_type": "code",
      "execution_count": null,
      "id": "d0753383-af9d-4c53-aef6-b3f8a8e998cf",
      "metadata": {
        "id": "d0753383-af9d-4c53-aef6-b3f8a8e998cf"
      },
      "outputs": [],
      "source": []
    }
  ],
  "metadata": {
    "kernelspec": {
      "display_name": "Python 3 (ipykernel)",
      "language": "python",
      "name": "python3"
    },
    "language_info": {
      "codemirror_mode": {
        "name": "ipython",
        "version": 3
      },
      "file_extension": ".py",
      "mimetype": "text/x-python",
      "name": "python",
      "nbconvert_exporter": "python",
      "pygments_lexer": "ipython3",
      "version": "3.12.7"
    },
    "colab": {
      "provenance": []
    }
  },
  "nbformat": 4,
  "nbformat_minor": 5
}