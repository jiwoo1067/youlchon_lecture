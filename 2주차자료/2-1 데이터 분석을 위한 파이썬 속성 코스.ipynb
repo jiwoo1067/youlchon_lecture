{
  "cells": [
    {
      "cell_type": "markdown",
      "id": "c3f9bc71-77a4-4121-a9eb-c87f7c4c5804",
      "metadata": {
        "id": "c3f9bc71-77a4-4121-a9eb-c87f7c4c5804"
      },
      "source": [
        "# __boolean__\n",
        "* 파이썬에는 명시적인 것이 암시적인 것보다 낫다라는 철학이 있습니다.\n",
        "* True나 False는 0과 1로도 표현할 수 있으나 명시적으로 표현하기 위해 True와 False를 사용합니다."
      ]
    },
    {
      "cell_type": "code",
      "execution_count": 2,
      "id": "e26609a7-eb96-45f0-a608-370561a95f40",
      "metadata": {
        "colab": {
          "base_uri": "https://localhost:8080/"
        },
        "id": "e26609a7-eb96-45f0-a608-370561a95f40",
        "outputId": "b397d4ba-4ee1-42f1-cc22-703b20e146c5"
      },
      "outputs": [
        {
          "output_type": "stream",
          "name": "stdout",
          "text": [
            "True\n"
          ]
        }
      ],
      "source": [
        "# 1. True를 출력해 보세요.\n",
        "print(True)"
      ]
    },
    {
      "cell_type": "code",
      "execution_count": 3,
      "id": "d5d173c0-9675-4885-a16c-84b79435a804",
      "metadata": {
        "colab": {
          "base_uri": "https://localhost:8080/"
        },
        "id": "d5d173c0-9675-4885-a16c-84b79435a804",
        "outputId": "d051ae73-5f28-46be-8e0c-92b99fce711a"
      },
      "outputs": [
        {
          "output_type": "stream",
          "name": "stdout",
          "text": [
            "False\n"
          ]
        }
      ],
      "source": [
        "# 2. False를 출력해 보세요.\n",
        "print(False)"
      ]
    },
    {
      "cell_type": "code",
      "execution_count": 4,
      "id": "b071847d-c6f3-446e-b7ae-2bf6cce23ec6",
      "metadata": {
        "colab": {
          "base_uri": "https://localhost:8080/"
        },
        "id": "b071847d-c6f3-446e-b7ae-2bf6cce23ec6",
        "outputId": "26fe95d8-074e-47f9-b61f-e488e29ac166"
      },
      "outputs": [
        {
          "output_type": "stream",
          "name": "stdout",
          "text": [
            "True\n"
          ]
        }
      ],
      "source": [
        "# 3. True는 1과 같음을 표현해 보세요. 파이썬에서는 같음을 비교할 때 == 연산을 사용합니다.\n",
        "print(True==1)"
      ]
    },
    {
      "cell_type": "code",
      "execution_count": 5,
      "id": "1e72a27a-e97d-4293-a8a9-18894a6a58ba",
      "metadata": {
        "colab": {
          "base_uri": "https://localhost:8080/"
        },
        "id": "1e72a27a-e97d-4293-a8a9-18894a6a58ba",
        "outputId": "c50811af-2193-46c8-b06d-1769b10ece2f"
      },
      "outputs": [
        {
          "output_type": "stream",
          "name": "stdout",
          "text": [
            "False\n"
          ]
        }
      ],
      "source": [
        "# 4. 하지만 True는 문자 1과 다릅니다. 1을 따옴표로 감싸면 문자열이 됩니다.\n",
        "print(True=='1')"
      ]
    },
    {
      "cell_type": "code",
      "execution_count": 6,
      "id": "5365683a-f3a6-43b5-a108-e407d4971ee0",
      "metadata": {
        "colab": {
          "base_uri": "https://localhost:8080/"
        },
        "id": "5365683a-f3a6-43b5-a108-e407d4971ee0",
        "outputId": "f5e0e6b0-2cf8-46f0-cdc6-08dea10e880d"
      },
      "outputs": [
        {
          "output_type": "stream",
          "name": "stdout",
          "text": [
            "False\n"
          ]
        }
      ],
      "source": [
        "# 5. 문자열 1과 True는 다릅니다.\n",
        "print(\"1\"==True)"
      ]
    },
    {
      "cell_type": "code",
      "execution_count": 7,
      "id": "cadd7d24-606d-4bbf-b00d-a869df877d0e",
      "metadata": {
        "colab": {
          "base_uri": "https://localhost:8080/"
        },
        "id": "cadd7d24-606d-4bbf-b00d-a869df877d0e",
        "outputId": "a1ccdc06-318e-4338-c45f-bb50c3c221f1"
      },
      "outputs": [
        {
          "output_type": "stream",
          "name": "stdout",
          "text": [
            "False\n"
          ]
        }
      ],
      "source": [
        "# 6. False도 마찬가지 입니다.\n",
        "print(False==1)"
      ]
    },
    {
      "cell_type": "code",
      "execution_count": 8,
      "id": "c52be7e4-b921-4e88-9a11-0dd0f2f7c248",
      "metadata": {
        "colab": {
          "base_uri": "https://localhost:8080/"
        },
        "id": "c52be7e4-b921-4e88-9a11-0dd0f2f7c248",
        "outputId": "678ff5b7-8b28-4c43-992e-caff983d4063"
      },
      "outputs": [
        {
          "output_type": "stream",
          "name": "stdout",
          "text": [
            "False\n"
          ]
        }
      ],
      "source": [
        "# 7. False는 문자열 0과 다릅니다.\n",
        "print(False==\"0\")"
      ]
    },
    {
      "cell_type": "code",
      "execution_count": 9,
      "id": "a546c445-569f-439a-a4f7-5dabfec2ba72",
      "metadata": {
        "colab": {
          "base_uri": "https://localhost:8080/"
        },
        "id": "a546c445-569f-439a-a4f7-5dabfec2ba72",
        "outputId": "fe30aa86-8300-46c1-b093-9d2cfeb55574"
      },
      "outputs": [
        {
          "output_type": "stream",
          "name": "stdout",
          "text": [
            "True\n"
          ]
        }
      ],
      "source": [
        "# 8. and 연산으로 True 값 끼리 비교합니다. and는 모든 값이 True 일때만 True가 됩니다.\n",
        "print(True and True)"
      ]
    },
    {
      "cell_type": "code",
      "execution_count": 10,
      "id": "58bfba8b-2dc6-4c0e-b382-3a30240bd402",
      "metadata": {
        "colab": {
          "base_uri": "https://localhost:8080/"
        },
        "id": "58bfba8b-2dc6-4c0e-b382-3a30240bd402",
        "outputId": "30f95231-476f-41dd-cf8e-69a70e340b08"
      },
      "outputs": [
        {
          "output_type": "stream",
          "name": "stdout",
          "text": [
            "False\n"
          ]
        }
      ],
      "source": [
        "# 9. and는 조건 중 하나라도 False라면 False가 됩니다.\n",
        "print(True and False)"
      ]
    },
    {
      "cell_type": "code",
      "execution_count": 12,
      "id": "a4de605c-98b9-46a9-97b5-997ac182b676",
      "metadata": {
        "colab": {
          "base_uri": "https://localhost:8080/"
        },
        "id": "a4de605c-98b9-46a9-97b5-997ac182b676",
        "outputId": "7e0ed44f-84c3-4536-edce-749e29fa2b87"
      },
      "outputs": [
        {
          "output_type": "stream",
          "name": "stdout",
          "text": [
            "True\n"
          ]
        }
      ],
      "source": [
        "# 10. or은 하나만 True 라도 True가 됩니다.\n",
        "print(True or False)"
      ]
    },
    {
      "cell_type": "markdown",
      "id": "a8d9ab63-56d1-43a8-88ec-e21bce634c83",
      "metadata": {
        "id": "a8d9ab63-56d1-43a8-88ec-e21bce634c83"
      },
      "source": [
        "# ___Number and String___\n",
        "* 숫자 1과 문자 \"1\"은 다릅니다. 숫자1과 문자1의 데이터 타입을 출력해보세요\n",
        "* 테이터 타입을 표현할 때 type을 통해 테이터를 출력합니다.\n",
        "* 정수 연산자에는 더하기, 빼기, 곱하기, 부동소수점 나누기, 정수나누기, 나머지 계산하기, 지수 계산하기 등이 있습니다."
      ]
    },
    {
      "cell_type": "code",
      "execution_count": 13,
      "id": "24d49682-861f-49e6-8d12-bbd9f576c232",
      "metadata": {
        "colab": {
          "base_uri": "https://localhost:8080/"
        },
        "id": "24d49682-861f-49e6-8d12-bbd9f576c232",
        "outputId": "e447cc35-64b1-4f8b-d95b-c91b2c421050"
      },
      "outputs": [
        {
          "output_type": "stream",
          "name": "stdout",
          "text": [
            "1\n"
          ]
        }
      ],
      "source": [
        "# 11. 숫자 1을 출력해 보세요.\n",
        "print(1)"
      ]
    },
    {
      "cell_type": "code",
      "execution_count": 14,
      "id": "03efb2ef-c66e-4d44-afff-cdc0c897c5ce",
      "metadata": {
        "colab": {
          "base_uri": "https://localhost:8080/"
        },
        "id": "03efb2ef-c66e-4d44-afff-cdc0c897c5ce",
        "outputId": "f48da7d6-e623-43ea-e1fa-956f96456efc"
      },
      "outputs": [
        {
          "output_type": "stream",
          "name": "stdout",
          "text": [
            "1\n"
          ]
        }
      ],
      "source": [
        "# 12. 문자 1을 출력해 보세요.\n",
        "print(\"1\")"
      ]
    },
    {
      "cell_type": "code",
      "execution_count": 15,
      "id": "8677ad59-a624-42c9-803a-058c222ac941",
      "metadata": {
        "colab": {
          "base_uri": "https://localhost:8080/"
        },
        "id": "8677ad59-a624-42c9-803a-058c222ac941",
        "outputId": "e33f0f81-d5a3-498f-b9e4-b7ea6c671edb"
      },
      "outputs": [
        {
          "output_type": "stream",
          "name": "stdout",
          "text": [
            "<class 'int'>\n"
          ]
        }
      ],
      "source": [
        "# 13. 숫자 1의 데이터 타입을 출력해 보세요.\n",
        "print(type(1))"
      ]
    },
    {
      "cell_type": "code",
      "execution_count": 16,
      "id": "664c5aab-1b8c-4d1f-99a0-d4921a49da88",
      "metadata": {
        "colab": {
          "base_uri": "https://localhost:8080/"
        },
        "id": "664c5aab-1b8c-4d1f-99a0-d4921a49da88",
        "outputId": "a1fc078c-dba5-4a6a-a92e-7570a4375b56"
      },
      "outputs": [
        {
          "output_type": "stream",
          "name": "stdout",
          "text": [
            "<class 'str'>\n"
          ]
        }
      ],
      "source": [
        "# 14. 문자 1의 데이터 타입을 출력해 보세요.\n",
        "print(type(\"1\"))"
      ]
    },
    {
      "cell_type": "code",
      "execution_count": 17,
      "id": "3f6db091-2e21-4819-88ee-ecce111162af",
      "metadata": {
        "colab": {
          "base_uri": "https://localhost:8080/"
        },
        "id": "3f6db091-2e21-4819-88ee-ecce111162af",
        "outputId": "df99f257-2bbc-4034-c03d-4d9f05c19a6e"
      },
      "outputs": [
        {
          "output_type": "stream",
          "name": "stdout",
          "text": [
            "False\n"
          ]
        }
      ],
      "source": [
        "# 15. 문자 1과 숫자 1을 비교합니다.\n",
        "print(\"1\"==1)"
      ]
    },
    {
      "cell_type": "code",
      "execution_count": 19,
      "id": "84113ef4-4682-4f4a-913a-651728329b1c",
      "metadata": {
        "colab": {
          "base_uri": "https://localhost:8080/"
        },
        "id": "84113ef4-4682-4f4a-913a-651728329b1c",
        "outputId": "07caa95d-162f-4948-8a16-247f88f12656"
      },
      "outputs": [
        {
          "output_type": "stream",
          "name": "stdout",
          "text": [
            "3.5\n"
          ]
        }
      ],
      "source": [
        "# 16. 7을 2로 나눈 값을 출력해 보세요. (/는 부동소수점을 포함한 결과가 출력된다.)\n",
        "print(7/2)"
      ]
    },
    {
      "cell_type": "code",
      "execution_count": 20,
      "id": "f3520e99-74e6-47a2-83f4-0f00fd8da4f8",
      "metadata": {
        "colab": {
          "base_uri": "https://localhost:8080/"
        },
        "id": "f3520e99-74e6-47a2-83f4-0f00fd8da4f8",
        "outputId": "ad8e4797-65f8-4319-8416-798965202136"
      },
      "outputs": [
        {
          "output_type": "stream",
          "name": "stdout",
          "text": [
            "3\n"
          ]
        }
      ],
      "source": [
        "# 17. 7을 2로 나눈 정수값을 출력해 보세요. (//는 부동소수점을 제외한 결과가 출력된다.)\n",
        "print(7//2)"
      ]
    },
    {
      "cell_type": "code",
      "execution_count": 21,
      "id": "cce176a7-5a65-4ad0-9b88-67528b5134b5",
      "metadata": {
        "colab": {
          "base_uri": "https://localhost:8080/"
        },
        "id": "cce176a7-5a65-4ad0-9b88-67528b5134b5",
        "outputId": "89ebe926-67cc-44f0-c690-d78c861c7885"
      },
      "outputs": [
        {
          "output_type": "stream",
          "name": "stdout",
          "text": [
            "3\n"
          ]
        }
      ],
      "source": [
        "# 18. 7을 4로 나눈 나머지를 출력해 보세요. (% 연산자를 나머지가 출력된다.)\n",
        "print(7%4)"
      ]
    },
    {
      "cell_type": "code",
      "execution_count": 22,
      "id": "2329da3e-e2f2-49d8-b01e-9fd03b11db99",
      "metadata": {
        "colab": {
          "base_uri": "https://localhost:8080/"
        },
        "id": "2329da3e-e2f2-49d8-b01e-9fd03b11db99",
        "outputId": "4ae5db2a-a895-4c50-89dd-5e93fb425ea5"
      },
      "outputs": [
        {
          "output_type": "stream",
          "name": "stdout",
          "text": [
            "11.313708498984761\n"
          ]
        }
      ],
      "source": [
        "# 19. 2의 3.5제곱값을 출력해 보세요. (** 연산자는 부동소수점을 사용할 수 있다)\n",
        "print(2**3.5)"
      ]
    },
    {
      "cell_type": "markdown",
      "id": "dea65d0f-ae80-4dbf-87ff-efcb06f9b4b7",
      "metadata": {
        "id": "dea65d0f-ae80-4dbf-87ff-efcb06f9b4b7"
      },
      "source": [
        "# ___String and Lists___"
      ]
    },
    {
      "cell_type": "code",
      "execution_count": 23,
      "id": "96b423b2-4652-4ef5-ab03-c91422016403",
      "metadata": {
        "colab": {
          "base_uri": "https://localhost:8080/"
        },
        "id": "96b423b2-4652-4ef5-ab03-c91422016403",
        "outputId": "a5435aaf-4ff1-473b-af1f-0f2e3c3682f2"
      },
      "outputs": [
        {
          "output_type": "stream",
          "name": "stdout",
          "text": [
            "Hello World\n"
          ]
        }
      ],
      "source": [
        "# 20. \"Hello World!\"를 출력해 봅니다.\n",
        "print(\"Hello World\")"
      ]
    },
    {
      "cell_type": "code",
      "execution_count": 25,
      "id": "f1eb93d4-a76c-454a-a28f-5de8e7c7d579",
      "metadata": {
        "colab": {
          "base_uri": "https://localhost:8080/"
        },
        "id": "f1eb93d4-a76c-454a-a28f-5de8e7c7d579",
        "outputId": "68be2013-1be2-4f86-d766-d6519b6d77fa"
      },
      "outputs": [
        {
          "output_type": "stream",
          "name": "stdout",
          "text": [
            "경기도 성남시 분당구\n"
          ]
        }
      ],
      "source": [
        "# 21. 주소 '경기도 성남시 분당구'를 출력해 봅니다.\n",
        "print(\"경기도 성남시 분당구\")"
      ]
    },
    {
      "cell_type": "code",
      "execution_count": 26,
      "id": "4ea357d6-aae6-4f80-b6be-2949535dac7e",
      "metadata": {
        "colab": {
          "base_uri": "https://localhost:8080/"
        },
        "id": "4ea357d6-aae6-4f80-b6be-2949535dac7e",
        "outputId": "ba9b4143-2b72-4eb6-ef1b-e6b1f774470c"
      },
      "outputs": [
        {
          "output_type": "stream",
          "name": "stdout",
          "text": [
            "she said, \"python is amazing!\"\n"
          ]
        }
      ],
      "source": [
        "# 22. 왜 2가지 종류의 따옴표가 있을까요? 주된 이유는 따옴표가 포함된 문자열을 만들기 위해서입니다.\n",
        "# 다음 문자열을 출력해 보세요 she said, \"python is amazing!\"\n",
        "print('she said, \"python is amazing!\"')"
      ]
    },
    {
      "cell_type": "markdown",
      "id": "70d504d1-76e8-45ea-9746-21f112de68b7",
      "metadata": {
        "id": "70d504d1-76e8-45ea-9746-21f112de68b7"
      },
      "source": [
        "# ___String___"
      ]
    },
    {
      "cell_type": "code",
      "execution_count": 30,
      "id": "9586f52b-a496-450e-b20b-e0ae099c3a50",
      "metadata": {
        "id": "9586f52b-a496-450e-b20b-e0ae099c3a50"
      },
      "outputs": [],
      "source": [
        "# 23. til이라는 변수에 \"Today I Learned\" 라는 문자열을 담아봅니다.\n",
        "til = \"Today I Learned\""
      ]
    },
    {
      "cell_type": "code",
      "execution_count": 29,
      "id": "f8c37f9a-2931-414b-aed2-ceac636213dd",
      "metadata": {
        "colab": {
          "base_uri": "https://localhost:8080/"
        },
        "id": "f8c37f9a-2931-414b-aed2-ceac636213dd",
        "outputId": "a0126992-908d-48ec-b744-2f801413e870"
      },
      "outputs": [
        {
          "output_type": "stream",
          "name": "stdout",
          "text": [
            "<built-in method lower of str object at 0x7d98682932b0>\n"
          ]
        }
      ],
      "source": [
        "# 24. 모두 소문자로 만들어보세요 (lower)\n",
        "print(til.lower)"
      ]
    },
    {
      "cell_type": "code",
      "execution_count": 31,
      "id": "f6634bd1-9a7c-453f-9705-8ad1baf8be1e",
      "metadata": {
        "colab": {
          "base_uri": "https://localhost:8080/"
        },
        "id": "f6634bd1-9a7c-453f-9705-8ad1baf8be1e",
        "outputId": "c659ffad-1620-40a3-d3bb-c975fe66e19f"
      },
      "outputs": [
        {
          "output_type": "stream",
          "name": "stdout",
          "text": [
            "Today I Learned\n"
          ]
        }
      ],
      "source": [
        "# 25. print함수를 이용하여 til을 출력하세요\n",
        "print(til)"
      ]
    },
    {
      "cell_type": "code",
      "execution_count": 33,
      "id": "c424eedf-ddd7-46ae-af8b-ec843a95d973",
      "metadata": {
        "colab": {
          "base_uri": "https://localhost:8080/"
        },
        "id": "c424eedf-ddd7-46ae-af8b-ec843a95d973",
        "outputId": "6627fc0e-ba08-4449-9a5f-8ffd3a23f2bb"
      },
      "outputs": [
        {
          "output_type": "stream",
          "name": "stdout",
          "text": [
            "TODAY I LEARNED\n"
          ]
        }
      ],
      "source": [
        "# 26. 모두 대문자로 만들어보세요 (upper)\n",
        "print(til.upper())"
      ]
    },
    {
      "cell_type": "code",
      "execution_count": 38,
      "id": "06750055-5ff5-4eda-b167-47a20c8be251",
      "metadata": {
        "id": "06750055-5ff5-4eda-b167-47a20c8be251"
      },
      "outputs": [],
      "source": [
        "# 27. 더 많은 문자열 함수를 확인하려면 변수이름 다음에 .을 입력하고 tab키를 누르세요 (til.)\n",
        "til = \"Today I Learned \""
      ]
    },
    {
      "cell_type": "code",
      "execution_count": 39,
      "id": "0cfc9eee-12ab-4261-bc57-a20842473ed3",
      "metadata": {
        "colab": {
          "base_uri": "https://localhost:8080/"
        },
        "id": "0cfc9eee-12ab-4261-bc57-a20842473ed3",
        "outputId": "eed7ec5c-e82c-451c-9d90-219cbebbc31a"
      },
      "outputs": [
        {
          "output_type": "stream",
          "name": "stdout",
          "text": [
            "Hi! Hi! Hi! \n",
            "Hello, World!\n"
          ]
        }
      ],
      "source": [
        "# 28. * 연산자를 이용하여 문자열을 복제하고 + 연산자를 이용하여 결합할 수 있습니다.\n",
        "repeat = \"Hi! \" * 3\n",
        "print(repeat)  # Hi! Hi! Hi!\n",
        "greeting = \"Hello, \" + \"World!\"\n",
        "print(greeting)  # Hello, World!"
      ]
    },
    {
      "cell_type": "code",
      "execution_count": 40,
      "id": "1b7a646e-df04-4b1a-937e-1b240c42ca80",
      "metadata": {
        "colab": {
          "base_uri": "https://localhost:8080/"
        },
        "id": "1b7a646e-df04-4b1a-937e-1b240c42ca80",
        "outputId": "e7f0a27b-c383-4611-8507-068ade73f23b"
      },
      "outputs": [
        {
          "output_type": "stream",
          "name": "stdout",
          "text": [
            "NaNaNaNa\n",
            " NaNaNaNa\n",
            "heyheyhey\n",
            "Goodbye.\n",
            "NaNaNaNa\n",
            " NaNaNaNa\n",
            "heyheyhey\n",
            "Goodbye.\n"
          ]
        }
      ],
      "source": [
        "start = 'Na' * 4 + '\\n'\n",
        "middle = 'hey' * 3 + '\\n'\n",
        "end ='Goodbye.'\n",
        "print(start,start+middle+end) # print()는 각 인수 사이에 공백을 붙입니다.\n",
        "\n",
        "start = 'Na' * 4 + '\\n'\n",
        "middle = 'hey' * 3 + '\\n'\n",
        "end = 'Goodbye.'\n",
        "print(start, start + middle + end)"
      ]
    },
    {
      "cell_type": "code",
      "execution_count": 41,
      "id": "b2814b12-3827-4c52-8dc4-76be043150ee",
      "metadata": {
        "colab": {
          "base_uri": "https://localhost:8080/"
        },
        "id": "b2814b12-3827-4c52-8dc4-76be043150ee",
        "outputId": "2fd5fe09-0f4b-451a-b0dd-fc4ec7a83a4d"
      },
      "outputs": [
        {
          "output_type": "stream",
          "name": "stdout",
          "text": [
            "세 번째 글자: c\n",
            "마지막 문자: z\n"
          ]
        }
      ],
      "source": [
        "# 29. letters의 세번째 글자와 마지막 문자를 출력하세요\n",
        "# 문자열에서 한 문자를 얻기 위해서는 문자열 이름 뒤에 대괄호 []와 오프셋을 지정합니다.\n",
        "letters = 'abcdefghijklmnopqrstuvwxyz'\n",
        "letters = 'abcdefghijklmnopqrstuvwxyz'\n",
        "\n",
        "# 세 번째 글자 (인덱스 2, 0부터 시작)\n",
        "third_char = letters[2]\n",
        "\n",
        "# 마지막 문자 (인덱스 -1)\n",
        "last_char = letters[-1]\n",
        "\n",
        "print(\"세 번째 글자:\", third_char)\n",
        "print(\"마지막 문자:\", last_char)"
      ]
    },
    {
      "cell_type": "code",
      "execution_count": 42,
      "id": "bcd1178d-b7bf-4450-b3e2-2da0b6d836f4",
      "metadata": {
        "colab": {
          "base_uri": "https://localhost:8080/"
        },
        "id": "bcd1178d-b7bf-4450-b3e2-2da0b6d836f4",
        "outputId": "55738040-9b5b-45ea-fc06-29d39842a3c2"
      },
      "outputs": [
        {
          "output_type": "stream",
          "name": "stdout",
          "text": [
            "Pbcdefghijklmnopqrstuvwxyz\n"
          ]
        }
      ],
      "source": [
        "# 30. letters의 첫번째 글자를 P로 변경하세요\n",
        "# letters[0] = 'p' # 문자열은 불변하기 때문에 특정 인덱스에 문자를 삽입하거나 변경할 수 없습니다.\n",
        "# letters.replace('a', 'p') # replace함수는 문자열에 있는 모든 문자를 변경합니다.\n",
        "#'p' + letters[1:] # 슬라이스를 이용하여 문자열 일부를 추출할 수 있습니다.\n",
        "letters = 'abcdefghijklmnopqrstuvwxyz'\n",
        "\n",
        "# 첫 글자를 'P'로 바꾸고 나머지는 그대로 이어 붙이기\n",
        "letters_modified = 'P' + letters[1:]\n",
        "\n",
        "print(letters_modified)"
      ]
    },
    {
      "cell_type": "markdown",
      "id": "0859ad22-437d-497d-b488-6ba08329689a",
      "metadata": {
        "id": "0859ad22-437d-497d-b488-6ba08329689a"
      },
      "source": [
        "# ___슬라이스로 부문 문자열 추출___\n",
        "* ___[ : ] 처음부터 끝까지 전체 시퀀스를 추출한다.___\n",
        "* ___[ start : ] start 오프셋부터 끝까지 시퀀스를 추출한다.___\n",
        "* ___[ : end ] 처음부터 end-1 오프셋까지 시퀀스를 추출한다.___\n",
        "* ___[ start : end ] start 오프셋부터 end-1 오프셋까지 시퀀스를 추출한다.___\n",
        "* ___[ start : end : step ] step 만큼 문자를 건너뛰면서, start 오프셋부터 end-1 오프셋까지 시퀀스를 추출한다.___"
      ]
    },
    {
      "cell_type": "code",
      "execution_count": 43,
      "id": "a2fe6f80-0460-4538-a8e4-3ab461cdf098",
      "metadata": {
        "colab": {
          "base_uri": "https://localhost:8080/"
        },
        "id": "a2fe6f80-0460-4538-a8e4-3ab461cdf098",
        "outputId": "eea7db32-b240-43f6-f7b5-fb2a9f4ba6bb"
      },
      "outputs": [
        {
          "output_type": "stream",
          "name": "stdout",
          "text": [
            "uvwxyz\n"
          ]
        }
      ],
      "source": [
        "# 31. letters에 저장된 문자열에서 오프셋 20부터 문자열 끝까지 추출하세요\n",
        "letters='abcdefghijklmnopqrstuvwxyz'\n",
        "print(letters[20:])"
      ]
    },
    {
      "cell_type": "code",
      "execution_count": 44,
      "id": "5d00b3be-8eef-49e9-9964-dce8b8b733c5",
      "metadata": {
        "colab": {
          "base_uri": "https://localhost:8080/"
        },
        "id": "5d00b3be-8eef-49e9-9964-dce8b8b733c5",
        "outputId": "b1345517-66fd-483e-e257-6c42a131f948"
      },
      "outputs": [
        {
          "output_type": "stream",
          "name": "stdout",
          "text": [
            "mno\n"
          ]
        }
      ],
      "source": [
        "# 32. letters에 저장된 문자열에서 오프셋 12부터 14까지 추출하세요\n",
        "letters = 'abcdefghijklmnopqrstuvwxyz'\n",
        "\n",
        "# 오프셋 12부터 14까지 추출 (끝 인덱스는 15로 지정, 슬라이스는 끝 인덱스 제외)\n",
        "substring = letters[12:15]\n",
        "\n",
        "print(substring)"
      ]
    },
    {
      "cell_type": "code",
      "execution_count": 51,
      "id": "8797865d-4428-4a89-b755-ab22f526eb3d",
      "metadata": {
        "colab": {
          "base_uri": "https://localhost:8080/"
        },
        "id": "8797865d-4428-4a89-b755-ab22f526eb3d",
        "outputId": "d6a8db46-b2d3-4f4e-c48b-125fc979b37c"
      },
      "outputs": [
        {
          "output_type": "stream",
          "name": "stdout",
          "text": [
            "xyz\n"
          ]
        }
      ],
      "source": [
        "# 33. letters에 저장된 문자열에서 마지막 세 문자를 추출하세요\n",
        "letters='abcdefghijklmnopqrstuvwxyz'\n",
        "\n",
        "last_three=letters[-3:]\n",
        "\n",
        "print(last_three)"
      ]
    },
    {
      "cell_type": "code",
      "execution_count": 52,
      "id": "34316eb1-cd75-4f81-a958-801134dc6f33",
      "metadata": {
        "colab": {
          "base_uri": "https://localhost:8080/"
        },
        "id": "34316eb1-cd75-4f81-a958-801134dc6f33",
        "outputId": "e6f6c319-c280-468a-e5d2-9bfb9fdf6fb5"
      },
      "outputs": [
        {
          "output_type": "stream",
          "name": "stdout",
          "text": [
            "stuvw\n"
          ]
        }
      ],
      "source": [
        "# 34. letters에 저장된 문자열에서 오프셋 18부터 마지막 네 번째 문자(w)까지 추출하세요\n",
        "letters = 'abcdefghijklmnopqrstuvwxyz'\n",
        "\n",
        "# 오프셋 18부터 마지막 네 번째 문자 'w'까지 추출\n",
        "substring = letters[18:23]  # 인덱스 18부터 22까지 (마지막 인덱스는 23 - 1)\n",
        "\n",
        "print(substring)"
      ]
    },
    {
      "cell_type": "code",
      "execution_count": 54,
      "id": "4e53af21-40ab-43e6-b4f9-ea38ca5776d6",
      "metadata": {
        "colab": {
          "base_uri": "https://localhost:8080/"
        },
        "id": "4e53af21-40ab-43e6-b4f9-ea38ca5776d6",
        "outputId": "b63d2b48-c25d-49dd-b498-7b817883d697"
      },
      "outputs": [
        {
          "output_type": "stream",
          "name": "stdout",
          "text": [
            "uvwx\n"
          ]
        }
      ],
      "source": [
        "# 35. letters에 저장된 문자열에서 끝에서 여섯 번째 문자(u)부터 끝에서 세 번째 문자(x)까지 추출하세요\n",
        "letters = 'abcdefghijklmnopqrstuvwxyz'\n",
        "\n",
        "# 끝에서 여섯 번째 문자는 인덱스 -6 (u)\n",
        "# 끝에서 세 번째 문자는 인덱스 -3 (x)\n",
        "substring = letters[-6:-2]  # 슬라이스는 끝 인덱스 제외이므로 -2를 써야 -3까지 포함됨\n",
        "\n",
        "print(substring)"
      ]
    },
    {
      "cell_type": "code",
      "execution_count": 55,
      "id": "11f126b0-9043-4e63-920a-24f51bae8dd9",
      "metadata": {
        "colab": {
          "base_uri": "https://localhost:8080/"
        },
        "id": "11f126b0-9043-4e63-920a-24f51bae8dd9",
        "outputId": "dfafdd20-b983-4180-edf4-7fbf7193692b"
      },
      "outputs": [
        {
          "output_type": "stream",
          "name": "stdout",
          "text": [
            "acegikmoqsuwy\n"
          ]
        }
      ],
      "source": [
        "# 36. letters에 저장된 문자열에서 처음부터 끝까지 2스텝씩 건너뛰면서 문자를 추출하세요\n",
        "letters = 'abcdefghijklmnopqrstuvwxyz'\n",
        "\n",
        "# 처음부터 끝까지 2스텝씩 건너뛰기\n",
        "result = letters[0::2]\n",
        "\n",
        "print(result)"
      ]
    },
    {
      "cell_type": "markdown",
      "id": "7f3ce004-c302-4d13-bd1f-4ab230a89a8e",
      "metadata": {
        "id": "7f3ce004-c302-4d13-bd1f-4ab230a89a8e"
      },
      "source": [
        "# ___더 많은 문자열 함수___\n",
        "* 문자열에서 사용할 수 있는 모든 method확인 방법 .누르고 tab키"
      ]
    },
    {
      "cell_type": "code",
      "execution_count": 57,
      "id": "79014518-7320-4939-82a9-f2793f96fd41",
      "metadata": {
        "id": "79014518-7320-4939-82a9-f2793f96fd41"
      },
      "outputs": [],
      "source": [
        "# 37. 주소를 address 변수에 저장합니다.\n",
        "# \"   경기도 성남시 분당구 불정로 6 NAVER 그린팩토리 16층   \"\n",
        "address=\"경기도 성남시 분당구 불정로 6 NAVER 그린팩토리 16층\""
      ]
    },
    {
      "cell_type": "code",
      "execution_count": 58,
      "id": "9569cf49-d082-4648-8e2f-c2b3bb0a6c44",
      "metadata": {
        "colab": {
          "base_uri": "https://localhost:8080/"
        },
        "id": "9569cf49-d082-4648-8e2f-c2b3bb0a6c44",
        "outputId": "71a9a2f7-f068-4f27-b1da-e0f431be451c"
      },
      "outputs": [
        {
          "output_type": "stream",
          "name": "stdout",
          "text": [
            "경기도 성남시 분당구 불정로 6 NAVER 그린팩토리 16층\n"
          ]
        }
      ],
      "source": [
        "# 38. 앞뒤 공백을 제거합니다. (strip)\n",
        "# 데이터 전처리 시 주로 사용합니다.\n",
        "# 결과를 다시 넣어주어야 합니다.\n",
        "address = address.strip()\n",
        "\n",
        "print(address)"
      ]
    },
    {
      "cell_type": "code",
      "execution_count": 60,
      "id": "c058e66e-d1c0-431f-872d-ddb31c75f203",
      "metadata": {
        "colab": {
          "base_uri": "https://localhost:8080/"
        },
        "id": "c058e66e-d1c0-431f-872d-ddb31c75f203",
        "outputId": "68e080ba-327c-4c67-844a-4723734052a6"
      },
      "outputs": [
        {
          "output_type": "stream",
          "name": "stdout",
          "text": [
            "33\n"
          ]
        }
      ],
      "source": [
        "# 39. address에 저장된 문자열의 길이를 출력해 보세요. (len)\n",
        "print(len(address))"
      ]
    },
    {
      "cell_type": "code",
      "execution_count": 61,
      "id": "64d620ce-5939-4dcd-bd81-a0b85d80ae5f",
      "metadata": {
        "colab": {
          "base_uri": "https://localhost:8080/"
        },
        "id": "64d620ce-5939-4dcd-bd81-a0b85d80ae5f",
        "outputId": "226135c2-f082-4da0-a80a-f3bf75e7196c"
      },
      "outputs": [
        {
          "output_type": "stream",
          "name": "stdout",
          "text": [
            "['경기도', '성남시', '분당구', '불정로', '6', 'NAVER', '그린팩토리', '16층']\n"
          ]
        }
      ],
      "source": [
        "# 40. address에 저장된 문자열을 공백으로 분리해보세요 (split)\n",
        "print(address.split())"
      ]
    },
    {
      "cell_type": "code",
      "execution_count": 62,
      "id": "5e62079c-2a15-4372-b13f-faf189f51795",
      "metadata": {
        "colab": {
          "base_uri": "https://localhost:8080/"
        },
        "id": "5e62079c-2a15-4372-b13f-faf189f51795",
        "outputId": "e7cf202d-0c3f-4ab7-f069-2cc47afdc473"
      },
      "outputs": [
        {
          "output_type": "stream",
          "name": "stdout",
          "text": [
            "['경기도 성남시 분당', ' 불정로 6 NAVER 그린팩토리 16층']\n"
          ]
        }
      ],
      "source": [
        "# 41. address에 저장된 문자열을 '구'로 분리해보세요 -특정 문자료 문자열 분리하려면 split(\"구문문자\")\n",
        "address = \"경기도 성남시 분당구 불정로 6 NAVER 그린팩토리 16층\"\n",
        "\n",
        "# '구'를 기준으로 문자열 분리\n",
        "parts = address.split('구')\n",
        "\n",
        "print(parts)"
      ]
    },
    {
      "cell_type": "code",
      "execution_count": 64,
      "id": "32fe70c0-b6b3-46c5-9306-f231541c5762",
      "metadata": {
        "colab": {
          "base_uri": "https://localhost:8080/"
        },
        "id": "32fe70c0-b6b3-46c5-9306-f231541c5762",
        "outputId": "b89422db-63a6-47e9-e21d-687181010fc1"
      },
      "outputs": [
        {
          "output_type": "stream",
          "name": "stdout",
          "text": [
            "True\n"
          ]
        }
      ],
      "source": [
        "# 42. startswith를 사용하여 address가 \"경기\" 라는 문자열로 시작하는지 확인해 보세요.\n",
        "print(address.startswith(\"경기\"))"
      ]
    },
    {
      "cell_type": "code",
      "execution_count": 65,
      "id": "2a3ba2ba-ef49-4ac5-bb88-63fe8e7cf242",
      "metadata": {
        "colab": {
          "base_uri": "https://localhost:8080/"
        },
        "id": "2a3ba2ba-ef49-4ac5-bb88-63fe8e7cf242",
        "outputId": "28f2d31a-127f-420b-b68e-917fdad8f936"
      },
      "outputs": [
        {
          "output_type": "stream",
          "name": "stdout",
          "text": [
            "True\n"
          ]
        }
      ],
      "source": [
        "# 43. in을 사용하여 address에 \"경기\" 라는 문자열을 포함하고 있는지 확인해 보세요.\n",
        "\n",
        "# in 키워드 사용법 : substring in string\n",
        "# substring - 검색하려는 부분 문자열\n",
        "# string - 검색 대상이 되는 전체 문자열\n",
        "address = \"경기도 성남시 분당구 불정로 6 NAVER 그린팩토리 16층\"\n",
        "\n",
        "# \"경기\" 문자열 포함 여부 확인\n",
        "contains_keyword = \"경기\" in address\n",
        "\n",
        "print(contains_keyword)"
      ]
    },
    {
      "cell_type": "code",
      "execution_count": 67,
      "id": "0a1a1e17-cbe9-4301-8759-4b62fd897ede",
      "metadata": {
        "colab": {
          "base_uri": "https://localhost:8080/"
        },
        "id": "0a1a1e17-cbe9-4301-8759-4b62fd897ede",
        "outputId": "4481eba9-b863-43dd-b267-0dbce1935742"
      },
      "outputs": [
        {
          "output_type": "stream",
          "name": "stdout",
          "text": [
            "'  12345   '\n"
          ]
        }
      ],
      "source": [
        "# 44. center함수를 사용하여 str을 중앙 정렬해보세요\n",
        "str = \"12345\"\n",
        "str = \"12345\"\n",
        "\n",
        "# 전체 길이 10으로 중앙 정렬 (빈칸은 공백으로 채움)\n",
        "centered_str = str.center(10)\n",
        "\n",
        "print(f\"'{centered_str}'\")"
      ]
    },
    {
      "cell_type": "code",
      "execution_count": 68,
      "id": "89fd5223-c5bf-4717-be05-06513f06a8ce",
      "metadata": {
        "colab": {
          "base_uri": "https://localhost:8080/"
        },
        "id": "89fd5223-c5bf-4717-be05-06513f06a8ce",
        "outputId": "5a49820a-0085-45c5-b74f-15eeed5b038a"
      },
      "outputs": [
        {
          "output_type": "stream",
          "name": "stdout",
          "text": [
            "'12345     '\n"
          ]
        }
      ],
      "source": [
        "# 45. ljust 함수를 사용하여 str을 왼쪽 정렬해보세요\n",
        "str = \"12345\"\n",
        "\n",
        "# 전체 길이 10으로 왼쪽 정렬 (빈칸은 공백으로 채움)\n",
        "left_aligned = str.ljust(10)\n",
        "\n",
        "print(f\"'{left_aligned}'\")"
      ]
    },
    {
      "cell_type": "code",
      "execution_count": 69,
      "id": "2dabf37d-96e0-40c2-8546-6a4b03ddc617",
      "metadata": {
        "colab": {
          "base_uri": "https://localhost:8080/"
        },
        "id": "2dabf37d-96e0-40c2-8546-6a4b03ddc617",
        "outputId": "0a120d1b-2fee-475f-ef1a-39d8369bba7a"
      },
      "outputs": [
        {
          "output_type": "stream",
          "name": "stdout",
          "text": [
            "'     12345'\n"
          ]
        }
      ],
      "source": [
        "# 46. rjust 함수를 사용하여 str을 오른쪽 정렬해보세요\n",
        "str = \"12345\"\n",
        "\n",
        "# 전체 길이 10으로 오른쪽 정렬 (빈칸은 공백으로 채움)\n",
        "right_aligned = str.rjust(10)\n",
        "\n",
        "print(f\"'{right_aligned}'\")"
      ]
    },
    {
      "cell_type": "markdown",
      "id": "e42a33a7-635e-4425-83d3-6b6ad9686b75",
      "metadata": {
        "id": "e42a33a7-635e-4425-83d3-6b6ad9686b75"
      },
      "source": [
        "# ___lists___\n",
        "* 리스트의 인덱싱은 string과 동일합니다."
      ]
    },
    {
      "cell_type": "code",
      "execution_count": 72,
      "id": "f767f6db-9bbd-46a2-9c91-291726758c39",
      "metadata": {
        "colab": {
          "base_uri": "https://localhost:8080/"
        },
        "id": "f767f6db-9bbd-46a2-9c91-291726758c39",
        "outputId": "54380afb-a1f7-47a2-955c-71833bc37bf8"
      },
      "outputs": [
        {
          "output_type": "stream",
          "name": "stdout",
          "text": [
            "[]\n"
          ]
        }
      ],
      "source": [
        "# 47. 비어있는 리스트를 만듭니다. lang이라는 변수에 담습니다. ([])\n",
        "lang = []\n",
        "print(lang)"
      ]
    },
    {
      "cell_type": "code",
      "execution_count": 76,
      "id": "a27d16e6-908c-4b72-b884-943ca561c284",
      "metadata": {
        "colab": {
          "base_uri": "https://localhost:8080/"
        },
        "id": "a27d16e6-908c-4b72-b884-943ca561c284",
        "outputId": "4393ea51-1822-4467-ca3d-122482024ce6"
      },
      "outputs": [
        {
          "output_type": "stream",
          "name": "stdout",
          "text": [
            "['python', 'java', 'c']\n"
          ]
        }
      ],
      "source": [
        "# 48. python, java, c를 원소에 추가한 다음 (append), 리스트를 출력합니다.\n",
        "lang=[]\n",
        "lang.append(\"python\")\n",
        "lang.append(\"java\")\n",
        "lang.append(\"c\")\n",
        "print(lang)"
      ]
    },
    {
      "cell_type": "code",
      "execution_count": 79,
      "id": "c915d106-1396-48db-8477-4199d8c0edba",
      "metadata": {
        "colab": {
          "base_uri": "https://localhost:8080/"
        },
        "id": "c915d106-1396-48db-8477-4199d8c0edba",
        "outputId": "916a0fa2-bbb7-4d06-e17d-4cfd93774942"
      },
      "outputs": [
        {
          "output_type": "stream",
          "name": "stdout",
          "text": [
            "python\n"
          ]
        }
      ],
      "source": [
        "# 49. lang 이라는 변수에 담겨있는 첫 번째 값을 인덱싱을 통해 가져옵니다.\n",
        "lang = ['python', 'java', 'c']\n",
        "\n",
        "first_element = lang[0]\n",
        "\n",
        "print(first_element)"
      ]
    },
    {
      "cell_type": "code",
      "execution_count": 80,
      "id": "2a8881dc-21b2-420c-82e9-8e29befab1bd",
      "metadata": {
        "colab": {
          "base_uri": "https://localhost:8080/"
        },
        "id": "2a8881dc-21b2-420c-82e9-8e29befab1bd",
        "outputId": "cc64d094-93b9-477a-a224-2abc95a7354a"
      },
      "outputs": [
        {
          "output_type": "stream",
          "name": "stdout",
          "text": [
            "java\n"
          ]
        }
      ],
      "source": [
        "# 50. 1번 인덱스를 가져옵니다.\n",
        "lang = ['python', 'java', 'c']\n",
        "\n",
        "second = lang[1]\n",
        "\n",
        "print(second)"
      ]
    },
    {
      "cell_type": "code",
      "execution_count": 81,
      "id": "631f74db-7130-433a-a442-305d1f8b8db2",
      "metadata": {
        "colab": {
          "base_uri": "https://localhost:8080/"
        },
        "id": "631f74db-7130-433a-a442-305d1f8b8db2",
        "outputId": "660a8798-f349-41e1-9025-7c2b0fd1833e"
      },
      "outputs": [
        {
          "output_type": "stream",
          "name": "stdout",
          "text": [
            "java\n"
          ]
        }
      ],
      "source": [
        "# 51. 마지막 인덱스를 가져옵니다. (-1)\n",
        "lang = ['python', 'java', 'c']\n",
        "\n",
        "last_element=lang[1]\n",
        "\n",
        "print(last_element)"
      ]
    },
    {
      "cell_type": "code",
      "execution_count": 82,
      "id": "5c620c29-578b-40a5-92ed-61ce3a9e2390",
      "metadata": {
        "id": "5c620c29-578b-40a5-92ed-61ce3a9e2390"
      },
      "outputs": [],
      "source": [
        "# 52. 다음 문자열을 address에 저장하세요\n",
        "\"   경기도 성남시 분당구 불정로 6 NAVER 그린팩토리 16층   \"\n",
        "address=\"경기도 성남시 분당구 불정로 6 NAVER 그린팩토리 16층\""
      ]
    },
    {
      "cell_type": "code",
      "execution_count": 83,
      "id": "7377cee0-e0c5-41bd-b6b4-27fccae0c020",
      "metadata": {
        "colab": {
          "base_uri": "https://localhost:8080/"
        },
        "id": "7377cee0-e0c5-41bd-b6b4-27fccae0c020",
        "outputId": "1e062fc9-e512-4e6f-d06b-aa514a759dc0"
      },
      "outputs": [
        {
          "output_type": "stream",
          "name": "stdout",
          "text": [
            "['경기도', '성남시', '분당구', '불정로', '6', 'NAVER', '그린팩토리', '16층']\n"
          ]
        }
      ],
      "source": [
        "# 53. address에 저장된 문자열을 공백으로 분리해서 address_list라는 이름의 list에 저장하세요\n",
        "address_list = address.split()\n",
        "print(address_list)"
      ]
    },
    {
      "cell_type": "code",
      "execution_count": 85,
      "id": "080f863a-6aae-496b-9c0d-1a78a60d47ea",
      "metadata": {
        "colab": {
          "base_uri": "https://localhost:8080/"
        },
        "id": "080f863a-6aae-496b-9c0d-1a78a60d47ea",
        "outputId": "11f4a889-0820-4306-e875-c07155681bc6"
      },
      "outputs": [
        {
          "output_type": "stream",
          "name": "stdout",
          "text": [
            "분당구\n"
          ]
        }
      ],
      "source": [
        "# 54. address_list에서 인덱싱으로 \"분당구\"를 자져와 gu라는 문자열 변수에 저장하세요\n",
        "gu=address_list[2]\n",
        "print(gu)"
      ]
    },
    {
      "cell_type": "code",
      "execution_count": 87,
      "id": "ef0a016d-e91a-4242-a8b9-d93576ddbfb9",
      "metadata": {
        "colab": {
          "base_uri": "https://localhost:8080/"
        },
        "id": "ef0a016d-e91a-4242-a8b9-d93576ddbfb9",
        "outputId": "33af5ac9-639a-41cc-95a3-9ca277c47412"
      },
      "outputs": [
        {
          "output_type": "stream",
          "name": "stdout",
          "text": [
            "불정로\n"
          ]
        }
      ],
      "source": [
        "# 55. address_list에서 인덱싱으로 \"불정로\"를 가져와 street이라는 문자열 변수에 저장하세요\n",
        "street = address_list[3]\n",
        "print(street)"
      ]
    },
    {
      "cell_type": "code",
      "execution_count": 91,
      "id": "ba7711db-17a0-48c8-9ddd-061a1d90f0d5",
      "metadata": {
        "colab": {
          "base_uri": "https://localhost:8080/"
        },
        "id": "ba7711db-17a0-48c8-9ddd-061a1d90f0d5",
        "outputId": "df293ab4-1499-442b-8d7c-bce1175d3474"
      },
      "outputs": [
        {
          "output_type": "stream",
          "name": "stdout",
          "text": [
            "16층\n"
          ]
        }
      ],
      "source": [
        "# 56. address_list에서 원소의 마지막을 가져옵니다.\n",
        "address_list=['경기도', '성남시', '분당구', '불정로', '6', 'NAVER', '그린팩토리', '16층']\n",
        "last_element = address_list[-1]\n",
        "\n",
        "print(last_element)"
      ]
    },
    {
      "cell_type": "code",
      "execution_count": 92,
      "id": "10892112-bb7c-4959-940f-8e56af451488",
      "metadata": {
        "colab": {
          "base_uri": "https://localhost:8080/"
        },
        "id": "10892112-bb7c-4959-940f-8e56af451488",
        "outputId": "9164378e-0164-4adb-f48e-744109f234cf"
      },
      "outputs": [
        {
          "output_type": "stream",
          "name": "stdout",
          "text": [
            "경기도 성남시 분당구 불정로 6 NAVER 그린팩토리 16층\n"
          ]
        }
      ],
      "source": [
        "# 57. address_list를 원래의 문자열로 합쳐서 address2에 저장해 주세요.\n",
        "# \" \".join(리스트)를 사용하면 리스트를 공백 문자열을 연결할 수 있습니다. \" \", \"_\", \"-\"등으로 연결할 수 있습니다.\n",
        "address_list = ['경기도 성남시 분당구', '불정로 6', 'NAVER 그린팩토리', '16층']\n",
        "\n",
        "address2 = \" \".join(address_list)\n",
        "\n",
        "print(address2)"
      ]
    },
    {
      "cell_type": "code",
      "execution_count": 93,
      "id": "8f558da3-af6f-4c06-8741-ec6c6e818276",
      "metadata": {
        "colab": {
          "base_uri": "https://localhost:8080/"
        },
        "id": "8f558da3-af6f-4c06-8741-ec6c6e818276",
        "outputId": "6a3cc7cf-5192-4622-b6c8-8b60f161fc1d"
      },
      "outputs": [
        {
          "output_type": "stream",
          "name": "stdout",
          "text": [
            "True\n"
          ]
        }
      ],
      "source": [
        "# 58. in이라는 키워드를 이용하여 \"분당구\"가 address_list에 포함되는지 확인해 보세요\n",
        "\n",
        "# in 키워드 사용법 : substring in list\n",
        "# substring - 검색하려는 부분 문자열\n",
        "# list - 검색 대상이 되는 list\n",
        "address_list=['경기도', '성남시', '분당구', '불정로', '6', 'NAVER', '그린팩토리', '16층']\n",
        "\n",
        "contains = any(\"분당구\" in item for item in address_list)\n",
        "\n",
        "print(contains)"
      ]
    },
    {
      "cell_type": "code",
      "execution_count": 94,
      "id": "643f002b-0ccf-4250-b513-ee13ce004d24",
      "metadata": {
        "colab": {
          "base_uri": "https://localhost:8080/"
        },
        "id": "643f002b-0ccf-4250-b513-ee13ce004d24",
        "outputId": "ef2de1a2-5ba7-46b4-8140-86b58b5eed3c"
      },
      "outputs": [
        {
          "output_type": "stream",
          "name": "stdout",
          "text": [
            "True\n"
          ]
        }
      ],
      "source": [
        "# 59. in이라는 키워드를 이용하여 \"경기\"가 address_list에 포함되는지 확인해 보세요\n",
        "\n",
        "# list는 인덱싱된 문자열이 정확하게 일치해야 True를 리턴합니다.\n",
        "# list에 일부 문자열이 포함되면 True를 리턴하도록 코드를 수정해보세요.(list를 문자열로 변경해서 in키워드로 확인)\n",
        "address_list = ['경기도 성남시 분당구', '불정로 6', 'NAVER 그린팩토리', '16층']\n",
        "\n",
        "contains = any(\"경기\" in item for item in address_list)\n",
        "\n",
        "print(contains)\n"
      ]
    },
    {
      "cell_type": "markdown",
      "id": "0ddf9156-d645-4e19-8e14-c7df213a69a1",
      "metadata": {
        "id": "0ddf9156-d645-4e19-8e14-c7df213a69a1"
      },
      "source": [
        "# ___Control Flow___\n",
        "* 제어문 - 조건문, 반복문\n",
        "* 파이썬에서 조건문과 반복문을 사용할 때 Tab키 또는 4번의 space bar키로 Indent를 맞춘다."
      ]
    },
    {
      "cell_type": "code",
      "execution_count": 95,
      "id": "c50366f2-950b-495c-a3c2-9c3b065c82e4",
      "metadata": {
        "colab": {
          "base_uri": "https://localhost:8080/"
        },
        "id": "c50366f2-950b-495c-a3c2-9c3b065c82e4",
        "outputId": "ab99699f-14f1-4204-e6bb-5e50566feaef"
      },
      "outputs": [
        {
          "output_type": "stream",
          "name": "stdout",
          "text": [
            "python\n",
            "java\n",
            "c\n",
            "python\n",
            "java\n",
            "c\n"
          ]
        }
      ],
      "source": [
        "# 60. 반복문을 통해 lang 리스트의 원소를 하나씩 출력합니다.\n",
        "for i in lang:\n",
        "    print(i)\n",
        "    lang = ['python', 'java', 'c']\n",
        "\n",
        "for i in lang:\n",
        "    print(i)"
      ]
    },
    {
      "cell_type": "code",
      "execution_count": 96,
      "id": "c7a2be9e-0fb9-43d1-a6a2-ed744c0dbc71",
      "metadata": {
        "colab": {
          "base_uri": "https://localhost:8080/"
        },
        "id": "c7a2be9e-0fb9-43d1-a6a2-ed744c0dbc71",
        "outputId": "2b3131e5-b4e6-4924-dfcb-30adff38c643"
      },
      "outputs": [
        {
          "output_type": "stream",
          "name": "stdout",
          "text": [
            "python\n",
            "기타\n",
            "기타\n"
          ]
        }
      ],
      "source": [
        "# 61. 반복문과 조건문을 이용하여 lang에 저장된 값이 python일 때는 그대로 출력하고 python이 아닐 때는 \"기타\" 라고 출력합니다.\n",
        "# 출력 결과가 아래와 같도록 합니다. 반복문과 조건문 사용 시 indent(들여쓰기)를 주의하세요\n",
        "# python\n",
        "# 기타\n",
        "# 기타\n",
        "lang = ['python', 'java', 'c']\n",
        "\n",
        "for i in lang:\n",
        "    if i == 'python':\n",
        "        print(i)\n",
        "    else:\n",
        "        print(\"기타\")"
      ]
    },
    {
      "cell_type": "code",
      "execution_count": 97,
      "id": "b5701f64-f9cb-45ac-9ece-ab2d42f24dfb",
      "metadata": {
        "colab": {
          "base_uri": "https://localhost:8080/"
        },
        "id": "b5701f64-f9cb-45ac-9ece-ab2d42f24dfb",
        "outputId": "c5ae4740-638a-4c4e-ad39-6eb1eb8d5c6c"
      },
      "outputs": [
        {
          "output_type": "stream",
          "name": "stdout",
          "text": [
            "python\n",
            "java\n",
            "c\n",
            "python\n",
            "java\n",
            "c\n"
          ]
        }
      ],
      "source": [
        "# 62. 특정 횟수만큼 반복문을 실행할 수 있습니다.\n",
        "count = len(lang)\n",
        "for i in range(count):\n",
        "    print(lang[i])\n",
        "    lang = ['python', 'java', 'c']\n",
        "\n",
        "count = len(lang)\n",
        "for i in range(count):\n",
        "    print(lang[i])"
      ]
    },
    {
      "cell_type": "code",
      "execution_count": 98,
      "id": "1808798d-25e4-44f4-b43b-52be48427b44",
      "metadata": {
        "colab": {
          "base_uri": "https://localhost:8080/"
        },
        "id": "1808798d-25e4-44f4-b43b-52be48427b44",
        "outputId": "f59a33a0-e48f-4992-eee3-8dbc67e09ccf"
      },
      "outputs": [
        {
          "output_type": "stream",
          "name": "stdout",
          "text": [
            "1\n",
            "3\n",
            "5\n",
            "7\n",
            "9\n"
          ]
        }
      ],
      "source": [
        "# 63. for문과 if문을 함께 사용해 봅시다\n",
        "# 1부터 10까지 홀수만 출력해보세요.\n",
        "for i in range(1, 11):  # 1부터 10까지 반복\n",
        "    if i % 2 == 1:      # i가 홀수인지 확인 (나머지가 1이면 홀수)\n",
        "        print(i)\n"
      ]
    },
    {
      "cell_type": "code",
      "execution_count": 100,
      "id": "a548b547-451e-46c5-a0b0-4342d87f86ae",
      "metadata": {
        "colab": {
          "base_uri": "https://localhost:8080/"
        },
        "id": "a548b547-451e-46c5-a0b0-4342d87f86ae",
        "outputId": "ae0c542a-9eca-4462-ad06-2991a627bf72"
      },
      "outputs": [
        {
          "output_type": "stream",
          "name": "stdout",
          "text": [
            "0 python\n",
            "1 java\n",
            "2 c\n"
          ]
        }
      ],
      "source": [
        "# 64. enumrate를 사용하면 인덱스 번화와 원소를 같이 가져올 수 있습니다.\n",
        "lang = ['python', 'java', 'c']\n",
        "\n",
        "for i, val in enumerate(lang):\n",
        "    print(i, val)"
      ]
    },
    {
      "cell_type": "markdown",
      "id": "f6045c52-2197-4fe5-8fe4-abda208a1f25",
      "metadata": {
        "id": "f6045c52-2197-4fe5-8fe4-abda208a1f25"
      },
      "source": [
        "# ___실습과제___\n",
        "* 반복문과 제어문을 이용하여 아래와 같이 삼각형 모양을 출력해보세요"
      ]
    },
    {
      "cell_type": "code",
      "execution_count": 101,
      "id": "b19f7b43-c634-45cc-b6a2-21255d13bf23",
      "metadata": {
        "colab": {
          "base_uri": "https://localhost:8080/"
        },
        "id": "b19f7b43-c634-45cc-b6a2-21255d13bf23",
        "outputId": "cb6fd85c-dfae-4a90-f576-987943be15c3"
      },
      "outputs": [
        {
          "output_type": "stream",
          "name": "stdout",
          "text": [
            "*\n",
            "***\n",
            "*****\n",
            "*******\n",
            "*********\n"
          ]
        }
      ],
      "source": [
        "# 삼각형 출력 1\n",
        "# 삼각형 모양의 별을 출력하는 코드\n",
        "\n",
        "lines = 5  # 출력할 줄 수\n",
        "\n",
        "for i in range(lines):\n",
        "    stars = 2 * i + 1  # 각 줄별 별 개수 (1, 3, 5, 7, 9)\n",
        "    print('*' * stars)"
      ]
    },
    {
      "cell_type": "code",
      "execution_count": 102,
      "id": "d2bf3701-7807-4f8c-b093-6a399693da7f",
      "metadata": {
        "colab": {
          "base_uri": "https://localhost:8080/"
        },
        "id": "d2bf3701-7807-4f8c-b093-6a399693da7f",
        "outputId": "e1f5d763-5304-4748-fc47-300393e8a19c"
      },
      "outputs": [
        {
          "output_type": "stream",
          "name": "stdout",
          "text": [
            "    *\n",
            "   ***\n",
            "  *****\n",
            " *******\n",
            "*********\n"
          ]
        }
      ],
      "source": [
        "# 삼각형 출력 2\n",
        "lines = 5  # 줄 수\n",
        "\n",
        "for i in range(lines):\n",
        "    stars = 2 * i + 1                # 별 개수 (1,3,5,7,9)\n",
        "    spaces = lines - i - 1           # 왼쪽 공백 개수\n",
        "    print(' ' * spaces + '*' * stars)"
      ]
    },
    {
      "cell_type": "code",
      "execution_count": null,
      "id": "d0753383-af9d-4c53-aef6-b3f8a8e998cf",
      "metadata": {
        "id": "d0753383-af9d-4c53-aef6-b3f8a8e998cf"
      },
      "outputs": [],
      "source": []
    }
  ],
  "metadata": {
    "kernelspec": {
      "display_name": "Python 3 (ipykernel)",
      "language": "python",
      "name": "python3"
    },
    "language_info": {
      "codemirror_mode": {
        "name": "ipython",
        "version": 3
      },
      "file_extension": ".py",
      "mimetype": "text/x-python",
      "name": "python",
      "nbconvert_exporter": "python",
      "pygments_lexer": "ipython3",
      "version": "3.12.7"
    },
    "colab": {
      "provenance": []
    }
  },
  "nbformat": 4,
  "nbformat_minor": 5
}